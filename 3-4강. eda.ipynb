{
 "cells": [
  {
   "cell_type": "markdown",
   "id": "95230dc2",
   "metadata": {},
   "source": [
    "# 데이터 분석 배워보기\n",
    "\n",
    "데이터 분석이란 데이터를 불러와 수정, 가공한 후 분석을 통해 통찰력을 얻고 답을 찾아나가는 과정이다. \n",
    "\n",
    "우리가 실제 다루는 대부분의 데이터는 행과 열로 이루어진 테이블 형태이다. pandas 패키지는 1차원 배열인 시리즈(Series) 및 행과 열로 이루어진 2차원 배열인 데이터프레임(DataFrame)을 통해 데이터 분석 업무를 쉽게 처리할 수 있게 해준다. 이번 장에서는 pandas 패키지를 이용한 데이터 분석 방법에 대해 살펴보도록 하자.\n",
    "\n",
    "## 시리즈\n",
    "\n",
    "시리즈란 데이터가 순차적으로 나열된 1차원 배열이며, 구조는 {numref}`series`와 같다. 인덱스(Index)와 값(Value)은 일대일 대응 관계이며, 이는 키(key)와 값(value)이 '{key:value}' 형태로 구성된 딕셔너리와 비슷하다.\n",
    "\n",
    "```{figure} image/eda/series.png\n",
    "---\n",
    "name: series\n",
    "---\n",
    "시리즈 구조\n",
    "```\n",
    "\n",
    "### 시리즈 만들기\n",
    "\n",
    "시리즈는 `Series()` 함수를 통해 만들 수 있다. 먼저 딕셔너리를 이용해 시리즈를 만드는 법을 살펴보자."
   ]
  },
  {
   "cell_type": "code",
   "execution_count": 1,
   "id": "bafd1a62",
   "metadata": {
    "scrolled": true
   },
   "outputs": [
    {
     "name": "stdout",
     "output_type": "stream",
     "text": [
      "a    1\n",
      "b    2\n",
      "c    3\n",
      "dtype: int64\n"
     ]
    }
   ],
   "source": [
    "import pandas as pd\n",
    "\n",
    "dict_data = {'a': 1, 'b': 2, 'c': 3}\n",
    "series = pd.Series(dict_data)\n",
    "\n",
    "print(series)"
   ]
  },
  {
   "cell_type": "code",
   "execution_count": 2,
   "id": "bd51e21c",
   "metadata": {},
   "outputs": [
    {
     "data": {
      "text/plain": [
       "pandas.core.series.Series"
      ]
     },
     "execution_count": 2,
     "metadata": {},
     "output_type": "execute_result"
    }
   ],
   "source": [
    "type(series)"
   ]
  },
  {
   "cell_type": "markdown",
   "id": "934465eb",
   "metadata": {},
   "source": [
    "먼저 키가 'a', 'b', 'c', 값이 1, 2, 3인 딕셔너리를 만든 후, `Series()` 함수에 입력하면 시리즈 객체로 변환된다. 결과를 살펴보면 딕셔너리의 키는 시리즈의 인덱스로, 딕셔너리의 값들은 시리즈의 값으로 변환되었다."
   ]
  },
  {
   "cell_type": "code",
   "execution_count": 3,
   "id": "6440f24c",
   "metadata": {},
   "outputs": [
    {
     "data": {
      "text/plain": [
       "Index(['a', 'b', 'c'], dtype='object')"
      ]
     },
     "execution_count": 3,
     "metadata": {},
     "output_type": "execute_result"
    }
   ],
   "source": [
    "series.index"
   ]
  },
  {
   "cell_type": "code",
   "execution_count": 4,
   "id": "c878db1f",
   "metadata": {},
   "outputs": [
    {
     "data": {
      "text/plain": [
       "array([1, 2, 3])"
      ]
     },
     "execution_count": 4,
     "metadata": {},
     "output_type": "execute_result"
    }
   ],
   "source": [
    "series.values"
   ]
  },
  {
   "cell_type": "markdown",
   "id": "4daeb26f",
   "metadata": {},
   "source": [
    "시리즈 뒤에 `.index`와 `.values`를 입력하면 각각 인덱스와 값의 배열을 반환한다. \n",
    "\n",
    "딕셔너리가 아닌 리스트를 통해 시리즈를 만들 수도 있다."
   ]
  },
  {
   "cell_type": "code",
   "execution_count": 5,
   "id": "aa93316f",
   "metadata": {},
   "outputs": [
    {
     "name": "stdout",
     "output_type": "stream",
     "text": [
      "0    a\n",
      "1    b\n",
      "2    c\n",
      "dtype: object\n"
     ]
    }
   ],
   "source": [
    "list_data = ['a', 'b', 'c']\n",
    "series_2 = pd.Series(list_data)\n",
    "\n",
    "print(series_2)"
   ]
  },
  {
   "cell_type": "markdown",
   "id": "c6661368",
   "metadata": {},
   "source": [
    "만일 리스트를 통해 시리즈를 만들 경우, 인덱스는 정수형 위치 인덱스(0, 1, 2, ...)가 자동으로 지정된다. "
   ]
  },
  {
   "cell_type": "code",
   "execution_count": 6,
   "id": "02eb8c8b",
   "metadata": {},
   "outputs": [
    {
     "name": "stdout",
     "output_type": "stream",
     "text": [
      "index1    a\n",
      "index2    b\n",
      "index3    c\n",
      "dtype: object\n"
     ]
    }
   ],
   "source": [
    "series_3 = pd.Series(list_data, index=['index1', 'index2', 'index3'])\n",
    "\n",
    "print(series_3)"
   ]
  },
  {
   "cell_type": "markdown",
   "id": "4a3d35e1",
   "metadata": {},
   "source": [
    "리스트를 통해 시리즈를 만든 후, index 옵션에 인덱스 이름을 직접 입력하여 인덱스를 생성할 수도 있다.\n",
    "\n",
    "###  원소 선택하기\n",
    "\n",
    "시리즈도 리스트 혹은 튜플과 같이 인덱싱이나 슬라이싱를 사용해 원하는 원소를 선택할 수 있다."
   ]
  },
  {
   "cell_type": "code",
   "execution_count": 7,
   "id": "7dde73e2",
   "metadata": {},
   "outputs": [
    {
     "name": "stdout",
     "output_type": "stream",
     "text": [
      "Korea            Seoul\n",
      "Japan            Tokyo\n",
      "China          Beijing\n",
      "India        New Delhi\n",
      "Taiwan          Taipei\n",
      "Singapore    Singapore\n",
      "dtype: object\n"
     ]
    }
   ],
   "source": [
    "capital = pd.Series({'Korea': 'Seoul',\n",
    "                     'Japan': 'Tokyo',\n",
    "                     'China': 'Beijing',\n",
    "                     'India': 'New Delhi',\n",
    "                     'Taiwan': 'Taipei',\n",
    "                     'Singapore': 'Singapore'\n",
    "                     })\n",
    "\n",
    "print(capital)"
   ]
  },
  {
   "cell_type": "markdown",
   "id": "7242375d",
   "metadata": {},
   "source": [
    "먼저 키로는 국가명, 값으로는 수도로 이루어진 시리즈를 만들었다. 이 중 한국에 해당하는 데이터를 선택하는 법은 다음과 같다."
   ]
  },
  {
   "cell_type": "code",
   "execution_count": 8,
   "id": "6d4f4e85",
   "metadata": {},
   "outputs": [
    {
     "data": {
      "text/plain": [
       "'Seoul'"
      ]
     },
     "execution_count": 8,
     "metadata": {},
     "output_type": "execute_result"
    }
   ],
   "source": [
    "capital['Korea']"
   ]
  },
  {
   "cell_type": "markdown",
   "id": "440a1ac5",
   "metadata": {},
   "source": [
    "딕셔너리에서 키 값을 입력하면 이에 해당하는 값이 선택된 것처럼, 시리즈에서는 인덱스 이름을 입력하면 이에 해당하는 값이 선택된다."
   ]
  },
  {
   "cell_type": "code",
   "execution_count": 9,
   "id": "8bbc58a4",
   "metadata": {},
   "outputs": [
    {
     "data": {
      "text/plain": [
       "Korea      Seoul\n",
       "Taiwan    Taipei\n",
       "dtype: object"
      ]
     },
     "execution_count": 9,
     "metadata": {},
     "output_type": "execute_result"
    }
   ],
   "source": [
    "capital[['Korea', 'Taiwan']]"
   ]
  },
  {
   "cell_type": "markdown",
   "id": "97556f26",
   "metadata": {},
   "source": [
    "시리즈의 특징 중 하나는 한번에 여러개의 인덱스를 입력할 수 있다는 점이다. 값을 찾고 싶은 인덱스를 리스트 형태로([ ]) 입력하면 이에 해당하는 모든 원소가 선택된다."
   ]
  },
  {
   "cell_type": "code",
   "execution_count": 10,
   "id": "97958b31",
   "metadata": {},
   "outputs": [
    {
     "name": "stderr",
     "output_type": "stream",
     "text": [
      "C:\\Users\\kmakd\\AppData\\Local\\Temp\\ipykernel_24816\\3861522677.py:1: FutureWarning: Series.__getitem__ treating keys as positions is deprecated. In a future version, integer keys will always be treated as labels (consistent with DataFrame behavior). To access a value by position, use `ser.iloc[pos]`\n",
      "  capital[0]\n"
     ]
    },
    {
     "data": {
      "text/plain": [
       "'Seoul'"
      ]
     },
     "execution_count": 10,
     "metadata": {},
     "output_type": "execute_result"
    }
   ],
   "source": [
    "capital[0]"
   ]
  },
  {
   "cell_type": "markdown",
   "id": "2d3b4fde",
   "metadata": {},
   "source": [
    "시리즈는 순서가 있기 때문에 위치를 통해서도 원하는 값을 선택할 수 있다. 위치 인덱스 0을 입력하면, 이에 해당하는 첫 번째 값인 Seoul이 선택된다."
   ]
  },
  {
   "cell_type": "code",
   "execution_count": 11,
   "id": "73a033fd",
   "metadata": {},
   "outputs": [
    {
     "name": "stderr",
     "output_type": "stream",
     "text": [
      "C:\\Users\\kmakd\\AppData\\Local\\Temp\\ipykernel_24816\\1449061399.py:1: FutureWarning: Series.__getitem__ treating keys as positions is deprecated. In a future version, integer keys will always be treated as labels (consistent with DataFrame behavior). To access a value by position, use `ser.iloc[pos]`\n",
      "  capital[[0, 3]]\n"
     ]
    },
    {
     "data": {
      "text/plain": [
       "Korea        Seoul\n",
       "India    New Delhi\n",
       "dtype: object"
      ]
     },
     "execution_count": 11,
     "metadata": {},
     "output_type": "execute_result"
    }
   ],
   "source": [
    "capital[[0, 3]]"
   ]
  },
  {
   "cell_type": "markdown",
   "id": "0e7b56ac",
   "metadata": {},
   "source": [
    "위치 인덱스를 리스트 형태로 입력하면, 역시나 이에 해당하는 원소가 출력된다."
   ]
  },
  {
   "cell_type": "code",
   "execution_count": 12,
   "id": "2063b55d",
   "metadata": {},
   "outputs": [
    {
     "data": {
      "text/plain": [
       "Korea      Seoul\n",
       "Japan      Tokyo\n",
       "China    Beijing\n",
       "dtype: object"
      ]
     },
     "execution_count": 12,
     "metadata": {},
     "output_type": "execute_result"
    }
   ],
   "source": [
    "capital[0:3]"
   ]
  },
  {
   "cell_type": "markdown",
   "id": "9e544f9a",
   "metadata": {},
   "source": [
    "리스트와 동일하게 슬라이싱 기능 역시 사용이 가능하다. `0:3`은 위치 인덱스가 0 이상 3 미만을 뜻하며 이에 해당하는 값이 선택된다.\n",
    "\n",
    "### 시리즈 연산하기\n",
    "\n",
    "시리즈는 사칙 연산이 가능하다."
   ]
  },
  {
   "cell_type": "code",
   "execution_count": null,
   "id": "95616ea2",
   "metadata": {},
   "outputs": [],
   "source": [
    "series_1 = pd.Series([1, 2, 3])\n",
    "series_2 = pd.Series([4, 5, 6])\n",
    "\n",
    "series_1 + series_2"
   ]
  },
  {
   "cell_type": "markdown",
   "id": "d84bfd89",
   "metadata": {},
   "source": [
    "먼저 1,2,3으로 이루어진 시리즈(series_1)와 4,5,6으로 이루어진 시리즈(series_2)를 생성한다. 그 후 두 시리즈를 더하면 각각의 인덱스가 같은 값끼리 연산이 수행된다. 즉 1+4, 2+5, 3+6의 결과인 5, 7, 9가 계산된다."
   ]
  },
  {
   "cell_type": "code",
   "execution_count": null,
   "id": "ac90a8d6",
   "metadata": {},
   "outputs": [],
   "source": [
    "series_1 * 2"
   ]
  },
  {
   "cell_type": "markdown",
   "id": "6b6a28d0",
   "metadata": {},
   "source": [
    "시리즈에 숫자를 연산하면 모든 원소에 연산이 적용된다. 즉 시리즈에 2을 곱하면 모든 원소에 2가 곱해져 1\\*2, 2\\*2, 3\\*3의 결과인 2,4,6이 계산된다. \n",
    "\n",
    "## 데이터프레임\n",
    "\n",
    "시리즈가 1차원 배열이였다면, 데이터프레임은 2차원 배열이다. 이는 흔히 엑셀에서 사용하는 행과 열로 이루어진 테이블 형태이다. 데이터프레임의 각 열은 시리즈 객체이며, 이러한 시리즈가 모여 데이터프레임을 구성한다.\n",
    "\n",
    "```{figure} image/eda/dataframe.png\n",
    "---\n",
    "name: dataframe\n",
    "---\n",
    "데이터프레임 구조\n",
    "```\n",
    "\n",
    "### 데이터프레임 만들기와 수정하기\n",
    "\n",
    "데이터프레임은 `DataFrame()` 함수를 통해 만들 수 있으며, 시리즈를 만드는 방법과 유사하다."
   ]
  },
  {
   "cell_type": "code",
   "execution_count": 13,
   "id": "54ce6240",
   "metadata": {},
   "outputs": [
    {
     "data": {
      "text/html": [
       "<div>\n",
       "<style scoped>\n",
       "    .dataframe tbody tr th:only-of-type {\n",
       "        vertical-align: middle;\n",
       "    }\n",
       "\n",
       "    .dataframe tbody tr th {\n",
       "        vertical-align: top;\n",
       "    }\n",
       "\n",
       "    .dataframe thead th {\n",
       "        text-align: right;\n",
       "    }\n",
       "</style>\n",
       "<table border=\"1\" class=\"dataframe\">\n",
       "  <thead>\n",
       "    <tr style=\"text-align: right;\">\n",
       "      <th></th>\n",
       "      <th>col1</th>\n",
       "      <th>col2</th>\n",
       "      <th>col3</th>\n",
       "    </tr>\n",
       "  </thead>\n",
       "  <tbody>\n",
       "    <tr>\n",
       "      <th>0</th>\n",
       "      <td>1</td>\n",
       "      <td>4</td>\n",
       "      <td>7</td>\n",
       "    </tr>\n",
       "    <tr>\n",
       "      <th>1</th>\n",
       "      <td>2</td>\n",
       "      <td>5</td>\n",
       "      <td>8</td>\n",
       "    </tr>\n",
       "    <tr>\n",
       "      <th>2</th>\n",
       "      <td>3</td>\n",
       "      <td>6</td>\n",
       "      <td>9</td>\n",
       "    </tr>\n",
       "  </tbody>\n",
       "</table>\n",
       "</div>"
      ],
      "text/plain": [
       "   col1  col2  col3\n",
       "0     1     4     7\n",
       "1     2     5     8\n",
       "2     3     6     9"
      ]
     },
     "execution_count": 13,
     "metadata": {},
     "output_type": "execute_result"
    }
   ],
   "source": [
    "dict_data = {'col1': [1, 2, 3], 'col2': [4, 5, 6], 'col3': [7, 8, 9]}\n",
    "df = pd.DataFrame(dict_data)\n",
    "\n",
    "df"
   ]
  },
  {
   "cell_type": "code",
   "execution_count": 14,
   "id": "2aeff3e7",
   "metadata": {},
   "outputs": [
    {
     "data": {
      "text/plain": [
       "pandas.core.frame.DataFrame"
      ]
     },
     "execution_count": 14,
     "metadata": {},
     "output_type": "execute_result"
    }
   ],
   "source": [
    "type(df)"
   ]
  },
  {
   "cell_type": "markdown",
   "id": "adbb65ab",
   "metadata": {},
   "source": [
    "데이터프레임을 만들기 위해서는 길이가 같은, 즉 원소의 개수가 동일한 1차원 배열이 여러개 필요한다. 이는 데이터프레임이 여러 개의 시리즈를 모아둔 것과 같기 때문이다. 먼저 키가 'col1', 'col2', 'col3'이며 각 쌍에는 값이 3개씩 들어가있는 딕셔너리를 만든다. 이를 `DataFrame()` 함수에 넣으면 딕셔너리의 키는 열이름이 되며, 딕셔너리의 값은 데이터프레임 열의 값이 된다."
   ]
  },
  {
   "cell_type": "code",
   "execution_count": null,
   "id": "fd8a9e4e",
   "metadata": {},
   "outputs": [],
   "source": [
    "df2 = pd.DataFrame([[1, 2, 3], [4, 5, 6], [7, 8, 9]])\n",
    "\n",
    "df2"
   ]
  },
  {
   "cell_type": "markdown",
   "id": "03536c59",
   "metadata": {},
   "source": [
    "리스트를 통해 데이터프레임을 만들수도 있다. `DataFrame()` 함수 내부에 리스트 형태인 [1, 2, 3], [4, 5, 6], [7, 8, 9]를 다시 리스트에 넣어 중첩 형태로 입력하면, 각각의 리스트가 그대로 행의 형태로 입력된다. 반면 행 인덱스와 열 이름은 기본값인 위치 인덱스가 부여된다."
   ]
  },
  {
   "cell_type": "code",
   "execution_count": null,
   "id": "52706ed0",
   "metadata": {},
   "outputs": [],
   "source": [
    "df3 = pd.DataFrame([[1, 2, 3], [4, 5, 6], [7, 8, 9]],\n",
    "                   index=['index1', 'index2', 'index3'],\n",
    "                   columns=['col1', 'col2', 'col3'])\n",
    "\n",
    "df3"
   ]
  },
  {
   "cell_type": "markdown",
   "id": "a2758f39",
   "metadata": {},
   "source": [
    "만일 행 인덱스와 열 이름을 직접 지정하고자 할 경우, 리스트 형태로 입력하면 된다. 기존 데이터프레임의 행 인덱스와 열 이름도 변경할 수 있다."
   ]
  },
  {
   "cell_type": "code",
   "execution_count": null,
   "id": "17967438",
   "metadata": {},
   "outputs": [],
   "source": [
    "df3.index = ['행 1', '행 2', '행 3']\n",
    "df3.columns = ['열 1', '열 2', '열 3']\n",
    "\n",
    "df3"
   ]
  },
  {
   "cell_type": "markdown",
   "id": "3bfeb884",
   "metadata": {},
   "source": [
    "`DataFrame.index`와 `DataFrame.columns`를 통해 각각 새로운 행 인덱스 및 열 이름을 입력하면 이에 맞게 데이터가 바뀐다."
   ]
  },
  {
   "cell_type": "code",
   "execution_count": null,
   "id": "47ee1751",
   "metadata": {},
   "outputs": [],
   "source": [
    "df3.rename(index={'행 1': '첫 번째 행'}, inplace=True)\n",
    "df3.rename(columns={'열 1': '첫 번째 열'}, inplace=True)\n",
    "\n",
    "df3"
   ]
  },
  {
   "cell_type": "markdown",
   "id": "74067445",
   "metadata": {},
   "source": [
    "행 인덱스나 열 이름 중 원하는 부분만을 선택해 변경할 수도 있다. `DataFrame.rename(index or columns = {기존 이름:새 이름, ...})`을 입력하여 기존의 이름을 새 이름으로 변경할 수 있으며, `inplace = True` 옵션을 사용하면 원본 데이터가 변경된다.\n",
    "\n",
    "이번에는 데이터프레임의 행과 열을 삭제하는 방법에 대해 살펴보자."
   ]
  },
  {
   "cell_type": "code",
   "execution_count": null,
   "id": "435fa345",
   "metadata": {},
   "outputs": [],
   "source": [
    "df3.drop('행 3', axis=0, inplace=True)\n",
    "df3.drop('열 3', axis=1, inplace=True)\n",
    "\n",
    "df3"
   ]
  },
  {
   "cell_type": "markdown",
   "id": "fc649a90",
   "metadata": {},
   "source": [
    "`drop()` 메서드는 행 혹은 열을 삭제한다. 삭제하고 싶은 행 인덱스 혹은 열 이름을 입력하면 해당 부분이 삭제되며, 행을 삭제할 때는 축(axis) 옵션으로 `axis = 0`을, 열을 삭제할 때는 `axis = 1`을 입력해야 한다. 마지막으로 `inplace = True` 옵션을 사용하면 원본 데이터가 변경된다.\n",
    "\n",
    "- 행 삭제: `DataFrame.drop(행 인덱스, axis=0, inplace=True)`\n",
    "- 열 삭제: `DataFrame.drop(열 이름, axis=1, inplace=True)`\n",
    "\n",
    "### 열과 행 선택하기\n",
    "\n",
    "먼저 데이터프레임에서 열을 선택하는 법에 대해 알아보도록 하자. 열을 하나만 선택할 때는 대괄호([ ])안에 열 이름을 따옴표와 함께 입력거나, 도트(.) 다음에 열 이름을 입력하면 된다.\n",
    "\n",
    "- `DataFrame['열 이름']`\n",
    "- `DataFrame.열 이름` (열 이름이 문자열인 경우에만 가능)\n",
    "\n",
    "먼저 샘플 데이터프레임을 만들어 보자."
   ]
  },
  {
   "cell_type": "code",
   "execution_count": null,
   "id": "3d1bb2ef",
   "metadata": {},
   "outputs": [],
   "source": [
    "dict_data = {'col1': [1, 2, 3, 4], 'col2': [5, 6, 7, 8],\n",
    "             'col3': [9, 10, 11, 12], 'col4': [13, 14, 15, 16]}\n",
    "df = pd.DataFrame(dict_data, index=['index1', 'index2', 'index3', 'index4'])\n",
    "\n",
    "df"
   ]
  },
  {
   "cell_type": "markdown",
   "id": "5b9fe1b5",
   "metadata": {},
   "source": [
    "이 중 첫번째 열인 'col1'을 선택하는 법은 다음과 같다."
   ]
  },
  {
   "cell_type": "code",
   "execution_count": null,
   "id": "7f1a4476",
   "metadata": {},
   "outputs": [],
   "source": [
    "df['col1']"
   ]
  },
  {
   "cell_type": "code",
   "execution_count": null,
   "id": "3d26e076",
   "metadata": {},
   "outputs": [],
   "source": [
    "df.col1"
   ]
  },
  {
   "cell_type": "code",
   "execution_count": null,
   "id": "82fcbb48",
   "metadata": {},
   "outputs": [],
   "source": [
    "type(df['col1'])"
   ]
  },
  {
   "cell_type": "markdown",
   "id": "c18a428c",
   "metadata": {},
   "source": [
    "`DataFrame['col1']`과  `DataFrame.col1` 모두 동일한 데이터가 선택된다. 열을 한개만 선택할 경우 시리즈 객체가 반환되며, 만일 데이터프레임 형태로 반환하고자 할 경우에는 2중 대괄호([[열 이름]]) 형태로 입력하면 된다."
   ]
  },
  {
   "cell_type": "code",
   "execution_count": null,
   "id": "c2568c05",
   "metadata": {},
   "outputs": [],
   "source": [
    "df[['col1']]"
   ]
  },
  {
   "cell_type": "code",
   "execution_count": null,
   "id": "336f5b19",
   "metadata": {},
   "outputs": [],
   "source": [
    "type(df[['col1']])"
   ]
  },
  {
   "cell_type": "markdown",
   "id": "d945fa01",
   "metadata": {},
   "source": [
    "이번에는 데이터프레임에서 2개 이상의 열을 추출하는 법에 대해 알아보자. 대괄호([ ]) 안에 열 이름을 리스트 형태로 입력하면 이에 해당하는 열들이 데이터프레임으로 반환된다. \n",
    "\n",
    "- `DataFrame[['열 이름 1', '열 이름 2', ..., '열 이름 n']]`\n",
    "\n",
    "위 예제에서 col1과 col2 열을 선택해보도록 하자."
   ]
  },
  {
   "cell_type": "code",
   "execution_count": null,
   "id": "d7d38f0d",
   "metadata": {},
   "outputs": [],
   "source": [
    "df[['col1', 'col2']]"
   ]
  },
  {
   "cell_type": "markdown",
   "id": "f1e14451",
   "metadata": {},
   "source": [
    "이번에는 원하는 행을 선택하는 법에 대해 알아보자. 파이썬에서는 행 데이터를 선택할 때 `loc`과 `iloc` 인덱서를 사용한다. `loc`은 인덱스 이름을 기준으로 행을 선택할 때, `iloc`은 위치 인덱스를 기준으로 행을 선택할 때 사용한다.\n",
    "\n",
    "- `DataFrame.loc['행 인덱스']`\n",
    "- `DataFrame.iloc[위치 인덱스]`\n",
    "\n",
    "먼저 첫번째 행을 선택하는 법에 대해 살펴보자."
   ]
  },
  {
   "cell_type": "code",
   "execution_count": null,
   "id": "b0d5fd17",
   "metadata": {},
   "outputs": [],
   "source": [
    "df.loc['index1']"
   ]
  },
  {
   "cell_type": "code",
   "execution_count": null,
   "id": "08ccf1fb",
   "metadata": {},
   "outputs": [],
   "source": [
    "df.iloc[0]"
   ]
  },
  {
   "cell_type": "code",
   "execution_count": null,
   "id": "88328b7e",
   "metadata": {},
   "outputs": [],
   "source": [
    "type(df.loc['index1'])"
   ]
  },
  {
   "cell_type": "markdown",
   "id": "ea16139f",
   "metadata": {},
   "source": [
    "`loc` 인덱서를 사용할 경우 인덱스 이름인 'index1'을 입력하였으며, `iloc` 인덱서를 사용할 경우는 위치 인덱스인 0을 입력했다. 행을 한개만 선택할 때에도 시리즈 객체가 반환되며, 2중 대괄호([[ 열 이름]])를 사용하면 데이터프레임 형태가 반환된다."
   ]
  },
  {
   "cell_type": "code",
   "execution_count": null,
   "id": "9201a7c3",
   "metadata": {},
   "outputs": [],
   "source": [
    "df.loc[['index1']]"
   ]
  },
  {
   "cell_type": "code",
   "execution_count": null,
   "id": "004a74f3",
   "metadata": {},
   "outputs": [],
   "source": [
    "df.iloc[[0]]"
   ]
  },
  {
   "cell_type": "markdown",
   "id": "d71ae075",
   "metadata": {},
   "source": [
    "인덱서를 사용할 경우 슬라이싱 기능도 사용할 수 있다. "
   ]
  },
  {
   "cell_type": "code",
   "execution_count": null,
   "id": "b44a8321",
   "metadata": {},
   "outputs": [],
   "source": [
    "df.loc['index1':'index3']"
   ]
  },
  {
   "cell_type": "code",
   "execution_count": null,
   "id": "caa2abac",
   "metadata": {},
   "outputs": [],
   "source": [
    "df.iloc[0:2]"
   ]
  },
  {
   "cell_type": "markdown",
   "id": "f8aa90e0",
   "metadata": {},
   "source": [
    "행 인덱스 'index1'의 위치 인덱스는 0, 'index3'의 위치 인덱스는 2임에도 불구하고 `loc`과 `iloc`의 결과가 다르다. 이는 `loc`의 경우 범위의 끝을 포함하는 반면, `iloc`의 경우 범위의 끝을 제외하기 때문이다. 이를 정리하면 다음과 같다.\n",
    "\n",
    "```{table} 인덱서의 비교\n",
    ":name: indexor\n",
    "| 구분 | `loc` | `iloc` |\n",
    "| --- | --- | --- |\n",
    "| 대상 | 인덱스 이름 | 위치 인덱스 |\n",
    "| 범위 | 범위의 끝 포함 | 범위의 끝 제외 |\n",
    "```\n",
    "\n",
    "마지막으로 행과 열을 동시에 입력하여 원하는 원소를 선택하는 법을 살펴보도록 하자. 각 인덱서를 사용하는 법의 차이는 다음과 같다.\n",
    "\n",
    "- `DataFrame.loc['행 인덱스', '열 이름']`\n",
    "- `DataFrame.iloc[행 위치, 열 위치]`\n",
    "\n",
    "먼저 `loc` 인덱서를 사용한 방법을 살펴보자."
   ]
  },
  {
   "cell_type": "code",
   "execution_count": null,
   "id": "96823545",
   "metadata": {},
   "outputs": [],
   "source": [
    "df.loc['index1', 'col1']"
   ]
  },
  {
   "cell_type": "markdown",
   "id": "58c2c0d0",
   "metadata": {},
   "source": [
    "`loc` 인덱서를 통해 행 인덱스가 'index1', 열 이름이 'col1'인 원소가 선택되었다. 하나가 아닌 여러 원소를 선택하는 것도 가능하다."
   ]
  },
  {
   "cell_type": "code",
   "execution_count": null,
   "id": "512f95bd",
   "metadata": {},
   "outputs": [],
   "source": [
    "df.loc[['index1', 'index3'], ['col1', 'col4']]"
   ]
  },
  {
   "cell_type": "markdown",
   "id": "fb9934f5",
   "metadata": {},
   "source": [
    "리스트 형태로 원하는 행 인덱스 및 열 이름들을 입력하면, 해당 부분의 데이터만 선택하여 출력된다. 즉 행 인덱스가 'index1'과 'index3'인 행에서 열 이름이 'col1'과 'col4'인 열이 선택된다.\n",
    "\n",
    "슬라이싱을 이용해서도 원소를 선택할 수 있다."
   ]
  },
  {
   "cell_type": "code",
   "execution_count": null,
   "id": "2cab5432",
   "metadata": {},
   "outputs": [],
   "source": [
    "df.loc['index1':'index2', 'col1':'col3']"
   ]
  },
  {
   "cell_type": "markdown",
   "id": "cde0caa6",
   "metadata": {},
   "source": [
    "행 인덱스가 'index1'부터 'index2'까지의 행이, 열 이름이 'col1'부터 'col3' 까지의 열이 선택되었다.\n",
    "\n",
    "`iloc` 인덱서를 사용한 방법도 살펴보자."
   ]
  },
  {
   "cell_type": "code",
   "execution_count": null,
   "id": "8e0f0bf9",
   "metadata": {},
   "outputs": [],
   "source": [
    "df.iloc[0, 0]"
   ]
  },
  {
   "cell_type": "markdown",
   "id": "66b247b1",
   "metadata": {},
   "source": [
    "`iloc` 인덱서를 통해 첫 번째 행, 첫 번째 열의 원소가 선택되었다."
   ]
  },
  {
   "cell_type": "code",
   "execution_count": null,
   "id": "0ecfe05a",
   "metadata": {},
   "outputs": [],
   "source": [
    "df.iloc[[0, 2], [0, 3]]"
   ]
  },
  {
   "cell_type": "markdown",
   "id": "532f5d01",
   "metadata": {},
   "source": [
    "각 행과 열의 위치를 리스트 형태로 넣으면 해당 부분의 원소가 선택된다."
   ]
  },
  {
   "cell_type": "code",
   "execution_count": null,
   "id": "8b18f5c9",
   "metadata": {},
   "outputs": [],
   "source": [
    "df.iloc[0:2, 0:3]"
   ]
  },
  {
   "cell_type": "markdown",
   "id": "f7e8e92f",
   "metadata": {},
   "source": [
    "슬라이싱 기법으로도 원소를 선택할 수 있으며, `loc` 인덱서의 경우 범위의 끝이 포함되지만 `iloc` 인덱서는 범위의 끝이 포함되지 않는다.\n",
    "\n",
    "## 데이터 불러오기 및 저장하기\n",
    "\n",
    "데이터 분석에서 가장 첫 단계는 외부에 저장된 데이터를 프로그램으로 불러오는 일이다. 데이터가 없다면 분석도 할 수 없기 때문이다. pandas의 함수를 사용하면 다양한 형태의 파일을 불러와 데이터프레임으로 변환할 수 있으며, 반대로 가공한 데이터프레임을 다양한 유형의 파일로 저장할 수도 있다.\n",
    "\n",
    "```{table} 판다스의 데이터 입출력 함수\n",
    ":name: read_data\n",
    "| 파일 포맷 | 불러오기 | 저장하기 |\n",
    "| --- | --- | --- |\n",
    "| CSV | `read_csv()` | `to_csv()` |\n",
    "| EXCEL | `read_excel()` | `to_excel()` |\n",
    "| SQL | `read_sql()` | `to_sql()` |\n",
    "| HTML | `read_html()` | `to_html()` |\n",
    "| JSON | `read_json()` | `to_json()` |\n",
    "| HDF5 | `read_hdf()` | `to_hdf()` |\n",
    "```\n",
    "\n",
    "이 중 가장 대표적인 파일 포맷인 CSV와 EXCEL 파일을 읽고 쓰는 법에 대해 살펴보기로 하자."
   ]
  },
  {
   "cell_type": "code",
   "execution_count": 15,
   "id": "69882874",
   "metadata": {},
   "outputs": [
    {
     "data": {
      "text/html": [
       "<div>\n",
       "<style scoped>\n",
       "    .dataframe tbody tr th:only-of-type {\n",
       "        vertical-align: middle;\n",
       "    }\n",
       "\n",
       "    .dataframe tbody tr th {\n",
       "        vertical-align: top;\n",
       "    }\n",
       "\n",
       "    .dataframe thead th {\n",
       "        text-align: right;\n",
       "    }\n",
       "</style>\n",
       "<table border=\"1\" class=\"dataframe\">\n",
       "  <thead>\n",
       "    <tr style=\"text-align: right;\">\n",
       "      <th></th>\n",
       "      <th>Date</th>\n",
       "      <th>Close</th>\n",
       "      <th>Ret</th>\n",
       "    </tr>\n",
       "  </thead>\n",
       "  <tbody>\n",
       "    <tr>\n",
       "      <th>0</th>\n",
       "      <td>2020-01-02</td>\n",
       "      <td>2175.17</td>\n",
       "      <td>-1.02</td>\n",
       "    </tr>\n",
       "    <tr>\n",
       "      <th>1</th>\n",
       "      <td>2020-01-03</td>\n",
       "      <td>2176.46</td>\n",
       "      <td>0.06</td>\n",
       "    </tr>\n",
       "    <tr>\n",
       "      <th>2</th>\n",
       "      <td>2020-01-06</td>\n",
       "      <td>2155.07</td>\n",
       "      <td>-0.98</td>\n",
       "    </tr>\n",
       "    <tr>\n",
       "      <th>3</th>\n",
       "      <td>2020-01-07</td>\n",
       "      <td>2175.54</td>\n",
       "      <td>0.95</td>\n",
       "    </tr>\n",
       "    <tr>\n",
       "      <th>4</th>\n",
       "      <td>2020-01-08</td>\n",
       "      <td>2151.31</td>\n",
       "      <td>-1.11</td>\n",
       "    </tr>\n",
       "    <tr>\n",
       "      <th>...</th>\n",
       "      <td>...</td>\n",
       "      <td>...</td>\n",
       "      <td>...</td>\n",
       "    </tr>\n",
       "    <tr>\n",
       "      <th>243</th>\n",
       "      <td>2020-12-23</td>\n",
       "      <td>2759.82</td>\n",
       "      <td>0.96</td>\n",
       "    </tr>\n",
       "    <tr>\n",
       "      <th>244</th>\n",
       "      <td>2020-12-24</td>\n",
       "      <td>2806.86</td>\n",
       "      <td>1.70</td>\n",
       "    </tr>\n",
       "    <tr>\n",
       "      <th>245</th>\n",
       "      <td>2020-12-28</td>\n",
       "      <td>2808.60</td>\n",
       "      <td>0.06</td>\n",
       "    </tr>\n",
       "    <tr>\n",
       "      <th>246</th>\n",
       "      <td>2020-12-29</td>\n",
       "      <td>2820.51</td>\n",
       "      <td>0.42</td>\n",
       "    </tr>\n",
       "    <tr>\n",
       "      <th>247</th>\n",
       "      <td>2020-12-30</td>\n",
       "      <td>2873.47</td>\n",
       "      <td>1.88</td>\n",
       "    </tr>\n",
       "  </tbody>\n",
       "</table>\n",
       "<p>248 rows × 3 columns</p>\n",
       "</div>"
      ],
      "text/plain": [
       "           Date    Close   Ret\n",
       "0    2020-01-02  2175.17 -1.02\n",
       "1    2020-01-03  2176.46  0.06\n",
       "2    2020-01-06  2155.07 -0.98\n",
       "3    2020-01-07  2175.54  0.95\n",
       "4    2020-01-08  2151.31 -1.11\n",
       "..          ...      ...   ...\n",
       "243  2020-12-23  2759.82  0.96\n",
       "244  2020-12-24  2806.86  1.70\n",
       "245  2020-12-28  2808.60  0.06\n",
       "246  2020-12-29  2820.51  0.42\n",
       "247  2020-12-30  2873.47  1.88\n",
       "\n",
       "[248 rows x 3 columns]"
      ]
     },
     "execution_count": 15,
     "metadata": {},
     "output_type": "execute_result"
    }
   ],
   "source": [
    "import pandas as pd\n",
    "\n",
    "data_csv = pd.read_csv(\n",
    "    'https://raw.githubusercontent.com/hyunyulhenry/quant_py/main/kospi.csv')\n",
    "data_csv"
   ]
  },
  {
   "cell_type": "markdown",
   "id": "8543b554",
   "metadata": {},
   "source": [
    "`read_csv()` 함수 내에 파일 경로(파일명)을 입력하면 CSV 파일을 불러온 후 데이터프레임으로 변환한다. 파일 경로는 PC에서의 파일 위치(예: C:\\Users\\leebi\\quant\\kospi.csv) 혹은 인터넷 주소를 입력하면 된다. 해당 함수는 다양한 인자를 제공하므로 원하는 형식에 맞춰 데이터를 불러오는 것이 가능하다. 이와 관련된 자세한 설명은 아래 페이지에 설명되어 있다.\n",
    "\n",
    "```\n",
    "https://pandas.pydata.org/pandas-docs/stable/reference/api/pandas.read_csv.html\n",
    "```\n",
    "\n",
    "데이터를 불러온 것과 반대로 파이썬의 데이터프레임을 CSV 파일로 저장할때는 `to_csv()` 메서드가 사용된다."
   ]
  },
  {
   "cell_type": "code",
   "execution_count": 16,
   "id": "ad743586",
   "metadata": {
    "deletable": false,
    "editable": false,
    "run_control": {
     "frozen": true
    }
   },
   "outputs": [],
   "source": [
    "data_csv.to_csv('data.csv')"
   ]
  },
  {
   "cell_type": "markdown",
   "id": "dbcf4f43",
   "metadata": {},
   "source": [
    "```{figure} image/eda/save_csv.png\n",
    "---\n",
    "name: save_csv\n",
    "---\n",
    "```\n",
    "\n",
    "`DataFrame.to_csv('파일이름.csv')`을 입력하면 해당 경로에 CSV 파일이 저장된다. \n",
    "\n",
    "이번에는 엑셀 파일을 불러오는 법을 살펴보도록 하자. "
   ]
  },
  {
   "cell_type": "code",
   "execution_count": null,
   "id": "0074df09",
   "metadata": {},
   "outputs": [
    {
     "data": {
      "text/html": [
       "<div>\n",
       "<style scoped>\n",
       "    .dataframe tbody tr th:only-of-type {\n",
       "        vertical-align: middle;\n",
       "    }\n",
       "\n",
       "    .dataframe tbody tr th {\n",
       "        vertical-align: top;\n",
       "    }\n",
       "\n",
       "    .dataframe thead th {\n",
       "        text-align: right;\n",
       "    }\n",
       "</style>\n",
       "<table border=\"1\" class=\"dataframe\">\n",
       "  <thead>\n",
       "    <tr style=\"text-align: right;\">\n",
       "      <th></th>\n",
       "      <th>Date</th>\n",
       "      <th>Close</th>\n",
       "      <th>Ret</th>\n",
       "    </tr>\n",
       "  </thead>\n",
       "  <tbody>\n",
       "    <tr>\n",
       "      <th>0</th>\n",
       "      <td>2020-01-02</td>\n",
       "      <td>2175.17</td>\n",
       "      <td>-1.02</td>\n",
       "    </tr>\n",
       "    <tr>\n",
       "      <th>1</th>\n",
       "      <td>2020-01-03</td>\n",
       "      <td>2176.46</td>\n",
       "      <td>0.06</td>\n",
       "    </tr>\n",
       "    <tr>\n",
       "      <th>2</th>\n",
       "      <td>2020-01-06</td>\n",
       "      <td>2155.07</td>\n",
       "      <td>-0.98</td>\n",
       "    </tr>\n",
       "    <tr>\n",
       "      <th>3</th>\n",
       "      <td>2020-01-07</td>\n",
       "      <td>2175.54</td>\n",
       "      <td>0.95</td>\n",
       "    </tr>\n",
       "    <tr>\n",
       "      <th>4</th>\n",
       "      <td>2020-01-08</td>\n",
       "      <td>2151.31</td>\n",
       "      <td>-1.11</td>\n",
       "    </tr>\n",
       "    <tr>\n",
       "      <th>...</th>\n",
       "      <td>...</td>\n",
       "      <td>...</td>\n",
       "      <td>...</td>\n",
       "    </tr>\n",
       "    <tr>\n",
       "      <th>243</th>\n",
       "      <td>2020-12-23</td>\n",
       "      <td>2759.82</td>\n",
       "      <td>0.96</td>\n",
       "    </tr>\n",
       "    <tr>\n",
       "      <th>244</th>\n",
       "      <td>2020-12-24</td>\n",
       "      <td>2806.86</td>\n",
       "      <td>1.70</td>\n",
       "    </tr>\n",
       "    <tr>\n",
       "      <th>245</th>\n",
       "      <td>2020-12-28</td>\n",
       "      <td>2808.60</td>\n",
       "      <td>0.06</td>\n",
       "    </tr>\n",
       "    <tr>\n",
       "      <th>246</th>\n",
       "      <td>2020-12-29</td>\n",
       "      <td>2820.51</td>\n",
       "      <td>0.42</td>\n",
       "    </tr>\n",
       "    <tr>\n",
       "      <th>247</th>\n",
       "      <td>2020-12-30</td>\n",
       "      <td>2873.47</td>\n",
       "      <td>1.88</td>\n",
       "    </tr>\n",
       "  </tbody>\n",
       "</table>\n",
       "<p>248 rows × 3 columns</p>\n",
       "</div>"
      ],
      "text/plain": [
       "          Date    Close   Ret\n",
       "0   2020-01-02  2175.17 -1.02\n",
       "1   2020-01-03  2176.46  0.06\n",
       "2   2020-01-06  2155.07 -0.98\n",
       "3   2020-01-07  2175.54  0.95\n",
       "4   2020-01-08  2151.31 -1.11\n",
       "..         ...      ...   ...\n",
       "243 2020-12-23  2759.82  0.96\n",
       "244 2020-12-24  2806.86  1.70\n",
       "245 2020-12-28  2808.60  0.06\n",
       "246 2020-12-29  2820.51  0.42\n",
       "247 2020-12-30  2873.47  1.88\n",
       "\n",
       "[248 rows x 3 columns]"
      ]
     },
     "execution_count": 20,
     "metadata": {},
     "output_type": "execute_result"
    }
   ],
   "source": [
    "import openpyxl\n",
    "data_excel = pd.read_excel(\n",
    "    'https://github.com/hyunyulhenry/quant_py/raw/main/kospi.xlsx', sheet_name='kospi')\n",
    "data_excel"
   ]
  },
  {
   "cell_type": "markdown",
   "id": "fd4ded87",
   "metadata": {},
   "source": [
    "`read_excel()` 함수의 사용법은 앞서 살펴본 `read_csv()` 함수의 사용법과 거의 동일한다. 함수 내에 파일 경로(파일명)을 입력하면 엑셀 파일을 불러온 후 데이터프레임으로 변환한다. 시트명을 입력하지 않으면 가장 첫 번째 시트의 데이터를 불러오며, `sheet_name`을 통해 불러오고자 하는 시트를 선택할 수도 있다.\n",
    "\n",
    "데이트프레임을 엑셀 파일로 저장할때는 `to_excel()` 메서드가 사용된다."
   ]
  },
  {
   "cell_type": "code",
   "execution_count": 21,
   "id": "e7f73d1d",
   "metadata": {
    "deletable": false,
    "editable": false,
    "run_control": {
     "frozen": true
    }
   },
   "outputs": [],
   "source": [
    "data_excel.to_excel('data.xlsx')"
   ]
  },
  {
   "cell_type": "markdown",
   "id": "3771e7d7",
   "metadata": {},
   "source": [
    "```{figure} image/eda/save_excel.png\n",
    "---\n",
    "name: save_excel\n",
    "---\n",
    "```\n",
    "\n",
    "`DataFrame.to_excel('파일이름.xlsx')`을 입력하면 해당 경로에 엑셀 파일이 저장된다. \n",
    "\n",
    "## 데이터 요약 정보 및 통계값 살펴보기\n",
    "\n",
    "데이터를 불러왔다면 대략적인 정보를 확인하여 제대로된 데이터가 들어왔는지, 데이터는 어떠한 특성을 가지고 있는지 살펴보아야 제대로 된 데이터 분석을 할 수 있다. 먼저 데이터의 맨 위와 아래 중 일부를 확인하여 데이터를 개략적으로 살펴보는데는 `head()`와 `tail()` 메서드가 사용된다.\n",
    "\n",
    "- 맨 위 살펴보기: `DataFrae.head(n)`\n",
    "- 맨 아래 살펴보기: `DataFrae.tail(n)`\n",
    "\n",
    "n에 정수를 입력하면 맨 위 혹은 아래의 n개 행을 보여주며, 값을 입력하지 않으면 기본값인 5개 행을 보여준다. 예제로써 seaborn 패키지의 타이타닉 데이터셋을 불러온 후 살펴보자."
   ]
  },
  {
   "cell_type": "code",
   "execution_count": 23,
   "id": "0e6a36e2",
   "metadata": {},
   "outputs": [
    {
     "data": {
      "text/html": [
       "<div>\n",
       "<style scoped>\n",
       "    .dataframe tbody tr th:only-of-type {\n",
       "        vertical-align: middle;\n",
       "    }\n",
       "\n",
       "    .dataframe tbody tr th {\n",
       "        vertical-align: top;\n",
       "    }\n",
       "\n",
       "    .dataframe thead th {\n",
       "        text-align: right;\n",
       "    }\n",
       "</style>\n",
       "<table border=\"1\" class=\"dataframe\">\n",
       "  <thead>\n",
       "    <tr style=\"text-align: right;\">\n",
       "      <th></th>\n",
       "      <th>survived</th>\n",
       "      <th>pclass</th>\n",
       "      <th>sex</th>\n",
       "      <th>age</th>\n",
       "      <th>sibsp</th>\n",
       "      <th>parch</th>\n",
       "      <th>fare</th>\n",
       "      <th>embarked</th>\n",
       "      <th>class</th>\n",
       "      <th>who</th>\n",
       "      <th>adult_male</th>\n",
       "      <th>deck</th>\n",
       "      <th>embark_town</th>\n",
       "      <th>alive</th>\n",
       "      <th>alone</th>\n",
       "    </tr>\n",
       "  </thead>\n",
       "  <tbody>\n",
       "    <tr>\n",
       "      <th>0</th>\n",
       "      <td>0</td>\n",
       "      <td>3</td>\n",
       "      <td>male</td>\n",
       "      <td>22.0</td>\n",
       "      <td>1</td>\n",
       "      <td>0</td>\n",
       "      <td>7.2500</td>\n",
       "      <td>S</td>\n",
       "      <td>Third</td>\n",
       "      <td>man</td>\n",
       "      <td>True</td>\n",
       "      <td>NaN</td>\n",
       "      <td>Southampton</td>\n",
       "      <td>no</td>\n",
       "      <td>False</td>\n",
       "    </tr>\n",
       "    <tr>\n",
       "      <th>1</th>\n",
       "      <td>1</td>\n",
       "      <td>1</td>\n",
       "      <td>female</td>\n",
       "      <td>38.0</td>\n",
       "      <td>1</td>\n",
       "      <td>0</td>\n",
       "      <td>71.2833</td>\n",
       "      <td>C</td>\n",
       "      <td>First</td>\n",
       "      <td>woman</td>\n",
       "      <td>False</td>\n",
       "      <td>C</td>\n",
       "      <td>Cherbourg</td>\n",
       "      <td>yes</td>\n",
       "      <td>False</td>\n",
       "    </tr>\n",
       "    <tr>\n",
       "      <th>2</th>\n",
       "      <td>1</td>\n",
       "      <td>3</td>\n",
       "      <td>female</td>\n",
       "      <td>26.0</td>\n",
       "      <td>0</td>\n",
       "      <td>0</td>\n",
       "      <td>7.9250</td>\n",
       "      <td>S</td>\n",
       "      <td>Third</td>\n",
       "      <td>woman</td>\n",
       "      <td>False</td>\n",
       "      <td>NaN</td>\n",
       "      <td>Southampton</td>\n",
       "      <td>yes</td>\n",
       "      <td>True</td>\n",
       "    </tr>\n",
       "    <tr>\n",
       "      <th>3</th>\n",
       "      <td>1</td>\n",
       "      <td>1</td>\n",
       "      <td>female</td>\n",
       "      <td>35.0</td>\n",
       "      <td>1</td>\n",
       "      <td>0</td>\n",
       "      <td>53.1000</td>\n",
       "      <td>S</td>\n",
       "      <td>First</td>\n",
       "      <td>woman</td>\n",
       "      <td>False</td>\n",
       "      <td>C</td>\n",
       "      <td>Southampton</td>\n",
       "      <td>yes</td>\n",
       "      <td>False</td>\n",
       "    </tr>\n",
       "    <tr>\n",
       "      <th>4</th>\n",
       "      <td>0</td>\n",
       "      <td>3</td>\n",
       "      <td>male</td>\n",
       "      <td>35.0</td>\n",
       "      <td>0</td>\n",
       "      <td>0</td>\n",
       "      <td>8.0500</td>\n",
       "      <td>S</td>\n",
       "      <td>Third</td>\n",
       "      <td>man</td>\n",
       "      <td>True</td>\n",
       "      <td>NaN</td>\n",
       "      <td>Southampton</td>\n",
       "      <td>no</td>\n",
       "      <td>True</td>\n",
       "    </tr>\n",
       "  </tbody>\n",
       "</table>\n",
       "</div>"
      ],
      "text/plain": [
       "   survived  pclass     sex   age  sibsp  parch     fare embarked  class  \\\n",
       "0         0       3    male  22.0      1      0   7.2500        S  Third   \n",
       "1         1       1  female  38.0      1      0  71.2833        C  First   \n",
       "2         1       3  female  26.0      0      0   7.9250        S  Third   \n",
       "3         1       1  female  35.0      1      0  53.1000        S  First   \n",
       "4         0       3    male  35.0      0      0   8.0500        S  Third   \n",
       "\n",
       "     who  adult_male deck  embark_town alive  alone  \n",
       "0    man        True  NaN  Southampton    no  False  \n",
       "1  woman       False    C    Cherbourg   yes  False  \n",
       "2  woman       False  NaN  Southampton   yes   True  \n",
       "3  woman       False    C  Southampton   yes  False  \n",
       "4    man        True  NaN  Southampton    no   True  "
      ]
     },
     "execution_count": 23,
     "metadata": {},
     "output_type": "execute_result"
    }
   ],
   "source": [
    "import seaborn as sns\n",
    "\n",
    "df = sns.load_dataset('titanic')\n",
    "df.head()"
   ]
  },
  {
   "cell_type": "code",
   "execution_count": 24,
   "id": "1a07e213",
   "metadata": {},
   "outputs": [
    {
     "data": {
      "text/html": [
       "<div>\n",
       "<style scoped>\n",
       "    .dataframe tbody tr th:only-of-type {\n",
       "        vertical-align: middle;\n",
       "    }\n",
       "\n",
       "    .dataframe tbody tr th {\n",
       "        vertical-align: top;\n",
       "    }\n",
       "\n",
       "    .dataframe thead th {\n",
       "        text-align: right;\n",
       "    }\n",
       "</style>\n",
       "<table border=\"1\" class=\"dataframe\">\n",
       "  <thead>\n",
       "    <tr style=\"text-align: right;\">\n",
       "      <th></th>\n",
       "      <th>survived</th>\n",
       "      <th>pclass</th>\n",
       "      <th>sex</th>\n",
       "      <th>age</th>\n",
       "      <th>sibsp</th>\n",
       "      <th>parch</th>\n",
       "      <th>fare</th>\n",
       "      <th>embarked</th>\n",
       "      <th>class</th>\n",
       "      <th>who</th>\n",
       "      <th>adult_male</th>\n",
       "      <th>deck</th>\n",
       "      <th>embark_town</th>\n",
       "      <th>alive</th>\n",
       "      <th>alone</th>\n",
       "    </tr>\n",
       "  </thead>\n",
       "  <tbody>\n",
       "    <tr>\n",
       "      <th>886</th>\n",
       "      <td>0</td>\n",
       "      <td>2</td>\n",
       "      <td>male</td>\n",
       "      <td>27.0</td>\n",
       "      <td>0</td>\n",
       "      <td>0</td>\n",
       "      <td>13.00</td>\n",
       "      <td>S</td>\n",
       "      <td>Second</td>\n",
       "      <td>man</td>\n",
       "      <td>True</td>\n",
       "      <td>NaN</td>\n",
       "      <td>Southampton</td>\n",
       "      <td>no</td>\n",
       "      <td>True</td>\n",
       "    </tr>\n",
       "    <tr>\n",
       "      <th>887</th>\n",
       "      <td>1</td>\n",
       "      <td>1</td>\n",
       "      <td>female</td>\n",
       "      <td>19.0</td>\n",
       "      <td>0</td>\n",
       "      <td>0</td>\n",
       "      <td>30.00</td>\n",
       "      <td>S</td>\n",
       "      <td>First</td>\n",
       "      <td>woman</td>\n",
       "      <td>False</td>\n",
       "      <td>B</td>\n",
       "      <td>Southampton</td>\n",
       "      <td>yes</td>\n",
       "      <td>True</td>\n",
       "    </tr>\n",
       "    <tr>\n",
       "      <th>888</th>\n",
       "      <td>0</td>\n",
       "      <td>3</td>\n",
       "      <td>female</td>\n",
       "      <td>NaN</td>\n",
       "      <td>1</td>\n",
       "      <td>2</td>\n",
       "      <td>23.45</td>\n",
       "      <td>S</td>\n",
       "      <td>Third</td>\n",
       "      <td>woman</td>\n",
       "      <td>False</td>\n",
       "      <td>NaN</td>\n",
       "      <td>Southampton</td>\n",
       "      <td>no</td>\n",
       "      <td>False</td>\n",
       "    </tr>\n",
       "    <tr>\n",
       "      <th>889</th>\n",
       "      <td>1</td>\n",
       "      <td>1</td>\n",
       "      <td>male</td>\n",
       "      <td>26.0</td>\n",
       "      <td>0</td>\n",
       "      <td>0</td>\n",
       "      <td>30.00</td>\n",
       "      <td>C</td>\n",
       "      <td>First</td>\n",
       "      <td>man</td>\n",
       "      <td>True</td>\n",
       "      <td>C</td>\n",
       "      <td>Cherbourg</td>\n",
       "      <td>yes</td>\n",
       "      <td>True</td>\n",
       "    </tr>\n",
       "    <tr>\n",
       "      <th>890</th>\n",
       "      <td>0</td>\n",
       "      <td>3</td>\n",
       "      <td>male</td>\n",
       "      <td>32.0</td>\n",
       "      <td>0</td>\n",
       "      <td>0</td>\n",
       "      <td>7.75</td>\n",
       "      <td>Q</td>\n",
       "      <td>Third</td>\n",
       "      <td>man</td>\n",
       "      <td>True</td>\n",
       "      <td>NaN</td>\n",
       "      <td>Queenstown</td>\n",
       "      <td>no</td>\n",
       "      <td>True</td>\n",
       "    </tr>\n",
       "  </tbody>\n",
       "</table>\n",
       "</div>"
      ],
      "text/plain": [
       "     survived  pclass     sex   age  sibsp  parch   fare embarked   class  \\\n",
       "886         0       2    male  27.0      0      0  13.00        S  Second   \n",
       "887         1       1  female  19.0      0      0  30.00        S   First   \n",
       "888         0       3  female   NaN      1      2  23.45        S   Third   \n",
       "889         1       1    male  26.0      0      0  30.00        C   First   \n",
       "890         0       3    male  32.0      0      0   7.75        Q   Third   \n",
       "\n",
       "       who  adult_male deck  embark_town alive  alone  \n",
       "886    man        True  NaN  Southampton    no   True  \n",
       "887  woman       False    B  Southampton   yes   True  \n",
       "888  woman       False  NaN  Southampton    no  False  \n",
       "889    man        True    C    Cherbourg   yes   True  \n",
       "890    man        True  NaN   Queenstown    no   True  "
      ]
     },
     "execution_count": 24,
     "metadata": {},
     "output_type": "execute_result"
    }
   ],
   "source": [
    "df.tail()"
   ]
  },
  {
   "cell_type": "markdown",
   "id": "ad664e57",
   "metadata": {},
   "source": [
    "맨 위와 아래의 5개 행을 통해 데이터를 간략하게 볼 수 있다. 각 열의 데이터가 의미하는 바는 다음과 같다.\n",
    "\n",
    "```{table} 타이타닉 데이터셋\n",
    ":name: titanic_dataset\n",
    "| 열 이름 | 의미\t| 값 |\n",
    "| --- | --- | --- |\n",
    "| survived | 생존여부 |\t0 (사망) / 1 (생존)\t|\n",
    "| pclass | 좌석등급 (숫자) | 1 / 2 / 3 |\n",
    "| sex | 성별\t| male/female |\n",
    "| age | 나이 | 0~80 |\n",
    "| sibsp\t| 형제자매 + 배우자 동승자수 | 0~8 |\n",
    "| parch | 부모 + 자식 동승자수 | 0~6 |\n",
    "| fare | 요금 | 0~512.3292 |\n",
    "| embarked | 탑승 항구 | S (Southampton), C (Cherbourg), Q (Queenstown) |\n",
    "| class | 좌석등급 (영문) | First, Second, Third |\n",
    "| who | 성별 | man / woman | True(성인 남성), False(성인 남성이 아님) |\n",
    "| adult_male | 성인 남성 인지 아닌지 여부\n",
    "| deck | 선실 고유 번호 가장 앞자리 알파벳 | A,B,C,D,E,F,G |\n",
    "| embark_town | 탑승 항구 (영문) | Southampton / Cherbourg / Queenstown |\n",
    "| alive | 생존여부 | no(사망) / yes(생존) |\n",
    "| alone | 가족 있는지 여부 |\tTrue (가족 X) / False (가족 O) |\n",
    "```\n",
    "\n",
    "이번에는 데이터프레임의 크기를 확인해보도록 하자. "
   ]
  },
  {
   "cell_type": "code",
   "execution_count": null,
   "id": "18afa838",
   "metadata": {},
   "outputs": [],
   "source": [
    "df.shape"
   ]
  },
  {
   "cell_type": "markdown",
   "id": "62db379d",
   "metadata": {},
   "source": [
    "`dataframe.shape`를 입력하면 데이터프레임의 행과 열 갯수를 튜플 형태로 반환한다. 타이타닉 데이터셋은 행이 891개, 열이 15개로 이루어져 있다. \n",
    "\n",
    "데이터프레임의 기본 정보는 `info()` 메서드를 통해 확인할 수 있다."
   ]
  },
  {
   "cell_type": "code",
   "execution_count": null,
   "id": "a0d43038",
   "metadata": {},
   "outputs": [],
   "source": [
    "df.info()"
   ]
  },
  {
   "cell_type": "markdown",
   "id": "1fe23f47",
   "metadata": {},
   "source": [
    "1. 데이터프레임의 클래스 유형인 <'pandas.core.frame.DataFrame'>가 표시된다.\n",
    "2. RangeIndex를 통해 행이 0부터 890까지, 총 891개가 있음이 표시된다.\n",
    "3. Data columns를 통해 총 15개 열이 있음이 표시된다.\n",
    "4. #은 열 번호, Column는 열 이름, Non-Null Count은 Null값이 아닌 데이터 갯수, Dtype은 데이터 형태다.\n",
    "5. dtypes에는 데이터 형태가 요약되어 있다.\n",
    "6. memory usage에는 메모리 사용량이 표시된다.\n",
    "\n",
    "```{notice}\n",
    "pandas는 넘파이(NumPy)를 기반으로 만들어진 패키지이므로 NumPy에서 사용하는 자료형을 사용한다. 이는 파이썬 기본 자료형과 비슷하지만 다소 차이가 있다.\n",
    "\n",
    "| 파이썬 기본 자료형 | pandas 자료형 | 설명 |\n",
    "| --- | --- | --- |\n",
    "| int | int64 | 정수형 |\n",
    "| float | float64 | 실수형 |\n",
    "| string | object | 문자열 |\n",
    "| 없음, datetime 패키지 이용 | datetime64, timedelta64 | 시간 |\n",
    "| bool | bool | 불리언 |\n",
    "```\n",
    "\n",
    "각 열의 고유값 개수를 구하는데는 `value_counts()` 메서드가 사용된다. 먼저 sex(성별)의 고유값의 종류와 개수를 확인해보도록 하자."
   ]
  },
  {
   "cell_type": "code",
   "execution_count": 25,
   "id": "1336d548",
   "metadata": {},
   "outputs": [
    {
     "data": {
      "text/plain": [
       "sex\n",
       "male      577\n",
       "female    314\n",
       "Name: count, dtype: int64"
      ]
     },
     "execution_count": 25,
     "metadata": {},
     "output_type": "execute_result"
    }
   ],
   "source": [
    "df['sex'].value_counts()"
   ]
  },
  {
   "cell_type": "markdown",
   "id": "c8e8d551",
   "metadata": {},
   "source": [
    "원하는 열을 선택한 후 `value_counts()` 메서드를 적용한다. 고유값에는 male과 female이 있으며 male 데이터는 577개, female 데이터는 314개가 있다. 하나가 아닌 다중 열을 기준으로도 해당 메서드를 적용할 수 있다."
   ]
  },
  {
   "cell_type": "code",
   "execution_count": 26,
   "id": "c2cd3418",
   "metadata": {},
   "outputs": [
    {
     "data": {
      "text/plain": [
       "sex     survived\n",
       "male    0           468\n",
       "female  1           233\n",
       "male    1           109\n",
       "female  0            81\n",
       "Name: count, dtype: int64"
      ]
     },
     "execution_count": 26,
     "metadata": {},
     "output_type": "execute_result"
    }
   ],
   "source": [
    "df[['sex', 'survived']].value_counts()"
   ]
  },
  {
   "cell_type": "markdown",
   "id": "318294b5",
   "metadata": {},
   "source": [
    "sex와 survived 열을 기준으로 고유값 별 갯수가 계산되었다. male/0(남성/사망)은 468개, female/1(여성/생존)은 233개, male/1(남성/생존)은 109개, female/0(여성/사망)은 81개 데이터가 있다. 그러나 정렬이 보기 불편한 형태이며, 개수가 아닌 비중으로 보는게 편할 수도 있다. 이번에는 이를 반영해보도록 하자."
   ]
  },
  {
   "cell_type": "code",
   "execution_count": 27,
   "id": "95bb37a9",
   "metadata": {},
   "outputs": [
    {
     "data": {
      "text/plain": [
       "sex     survived\n",
       "female  0           0.090909\n",
       "        1           0.261504\n",
       "male    0           0.525253\n",
       "        1           0.122334\n",
       "Name: proportion, dtype: float64"
      ]
     },
     "execution_count": 27,
     "metadata": {},
     "output_type": "execute_result"
    }
   ],
   "source": [
    "df[['sex', 'survived']].value_counts(normalize=True).sort_index()"
   ]
  },
  {
   "cell_type": "markdown",
   "id": "0e20d04c",
   "metadata": {},
   "source": [
    "`value_counts()` 내에 `normalize=True`를 입력하면 비중으로 계산된다. 즉 female/0은 전체 891개 데이터 중 81개 이므로 81/891 = 0.090909가 계산된다. 또한 `sort_index()` 메서드는 인덱스를 정렬해준다.\n",
    "\n",
    "pandas의 메서드를 이용하면 각종 통계값도 쉽게 구할 수 있다. 가장 많이 사용되는 통계값인 산술평균은 `mean()` 메서드를 통해 구할 수 있다."
   ]
  },
  {
   "cell_type": "code",
   "execution_count": null,
   "id": "473a1085",
   "metadata": {},
   "outputs": [],
   "source": [
    "df['survived'].mean()"
   ]
  },
  {
   "cell_type": "markdown",
   "id": "c7761d53",
   "metadata": {},
   "source": [
    "원하는 열을 선택한 후, `mean()`을 입력하면 평균이 계산된다. survived에서 0은 사망, 1은 생존을 의미하므로 평균인 0.38은 전체 사람 중 38%의 사람이 생존했다는 의미와 같다."
   ]
  },
  {
   "cell_type": "code",
   "execution_count": null,
   "id": "26bbbb37",
   "metadata": {},
   "outputs": [],
   "source": [
    "df[['survived', 'age']].mean()"
   ]
  },
  {
   "cell_type": "markdown",
   "id": "eaf154b9",
   "metadata": {},
   "source": [
    "여러개의 열을 리스트 형태로 입력하여 동시에 평균을 구할 수도 있다. 타이타닉호 탑승자의 평균연령은 약 30세 였다. \n",
    "\n",
    "그러나 극단적인 값이 존재할 경우 산술평균은 왜곡될 수 있다. fare(요금) 열의 특성을 살펴보자."
   ]
  },
  {
   "cell_type": "code",
   "execution_count": null,
   "id": "c4ead459",
   "metadata": {},
   "outputs": [],
   "source": [
    "df['fare'].min()"
   ]
  },
  {
   "cell_type": "code",
   "execution_count": null,
   "id": "7a4ba9f7",
   "metadata": {},
   "outputs": [],
   "source": [
    "df['fare'].max()"
   ]
  },
  {
   "cell_type": "code",
   "execution_count": null,
   "id": "2ff31206",
   "metadata": {},
   "outputs": [],
   "source": [
    "df['fare'].mean()"
   ]
  },
  {
   "cell_type": "markdown",
   "id": "66fbf0d4",
   "metadata": {},
   "source": [
    "`min()`과 `max()` 메서드는 각각 최소값과 최대값을 계산한다. 요금의 최저는 0원도 있는 반면, 최대는 512나 된다. 따라서 평균인 32는 극단치에 해당하는 비싼 요금들의 영향을 받았을 가능성이 높다. 이러한 경우 중위수를 의미하는 median이 더욱 평균을 잘 설명해준다고 볼 수 있으며, 이는 `median()` 메서드를 통해 계산이 가능하다."
   ]
  },
  {
   "cell_type": "code",
   "execution_count": null,
   "id": "3746ef98",
   "metadata": {},
   "outputs": [],
   "source": [
    "df['fare'].median()"
   ]
  },
  {
   "cell_type": "markdown",
   "id": "4bde04d4",
   "metadata": {},
   "source": [
    "fare 열의 중위수는 14로써 산술평균인 32보다 훨씬 낮다. 이처럼 데이터가 극단치가 있는 경우 산술평균과 함께 중위수를 확인할 필요가 있다.\n",
    "\n",
    "pandas 패키지에는 이 외에도 통계값을 계산할 수 있는 다양한 메서드가 존재한다.\n",
    "\n",
    "## 결측치 처리하기\n",
    "\n",
    "타이타닉 데이터셋을 살펴보면 NaN이라는 데이터가 있다."
   ]
  },
  {
   "cell_type": "code",
   "execution_count": null,
   "id": "b5538eef",
   "metadata": {},
   "outputs": [],
   "source": [
    "df.head()"
   ]
  },
  {
   "cell_type": "markdown",
   "id": "2c616a1b",
   "metadata": {},
   "source": [
    "NaN은 'Not a Number'의 약자로써 결측치 혹은 누락값이라고 하며, 데이터를 입력할 때 빠지거나 소실된 값이다. 결측치가 많아지면 데이터의 품질이 떨어지고 제대로된 분석을 할 수 없기 때문에 적절하게 처리하는 과정이 필요하다. 먼저 결측치의 독특한 특성에 대해 살펴보자. 앞선 예제에서 `info()` 메서드를 통해 non-null인 데이터의 갯수, 즉 결측치가 아닌 데이터의 갯수를 확인할 수 있었다."
   ]
  },
  {
   "cell_type": "code",
   "execution_count": null,
   "id": "1e609459",
   "metadata": {},
   "outputs": [],
   "source": [
    "df.info()"
   ]
  },
  {
   "cell_type": "markdown",
   "id": "89b4c825",
   "metadata": {},
   "source": [
    "deck 열에는 값이 203개 밖에 없으며, 891-203 = 688개 만큼의 결측치가 있음을 확인할 수 있다. 결측치를 찾는 방법으로는 `isnull()`과 `notnull()` 메서드가 있다.\n",
    "\n",
    "- `isnull()`: 결측치면 True, 유효한 데이터면 False를 반환한다.\n",
    "- `notnull()`: 유효한 데이터면 True, 결측치면 False를 반환한다.\n",
    "\n",
    "타이타닉 데이터셋의 맨 위 데이터에 해당 메서드를 적용해보자."
   ]
  },
  {
   "cell_type": "code",
   "execution_count": null,
   "id": "3f2d4823",
   "metadata": {},
   "outputs": [],
   "source": [
    "df.head().isnull()"
   ]
  },
  {
   "cell_type": "markdown",
   "id": "4b476812",
   "metadata": {},
   "source": [
    "앞서 1, 3, 5행의 deck 열은 결측치였으며, `isnull()` 메서드를 적용하면 해당 부분이 True로 나타난다.\n",
    "\n",
    "### 결측치 삭제하기\n",
    "\n",
    "결측치를 다루는 가장 간단한 방법은 결측치가 있는 행 또는 열을 삭제하는 것이며, `dropna()` 메서드를 사용한다."
   ]
  },
  {
   "cell_type": "code",
   "execution_count": null,
   "id": "c0f790f2",
   "metadata": {},
   "outputs": [],
   "source": [
    "df.dropna()"
   ]
  },
  {
   "cell_type": "markdown",
   "id": "042b2d22",
   "metadata": {},
   "source": [
    "`dropna()` 메서드는 데이터가 결측치가 있을 경우 해당 행을 모두 삭제한다. 891개 행이던 데이터가 182개로 줄어든 것이 확인된다. "
   ]
  },
  {
   "cell_type": "code",
   "execution_count": null,
   "id": "e798b40f",
   "metadata": {},
   "outputs": [],
   "source": [
    "df.dropna(subset = ['age'], axis = 0)"
   ]
  },
  {
   "cell_type": "markdown",
   "id": "4ffb2d6e",
   "metadata": {},
   "source": [
    "`dropna()` 메서드 내에 `subset`을 입력하면 해당 열 중에서 결측치가 있는 경우 행을 삭제한다. 참고로 `axis = 0`은 행 방향으로 동작하는 것을 의미한다..\n",
    "\n",
    "이번에는 결측치가 있는 열을 삭제해보도록 하겠다."
   ]
  },
  {
   "cell_type": "code",
   "execution_count": null,
   "id": "d2265b99",
   "metadata": {},
   "outputs": [],
   "source": [
    "df.dropna(axis = 1)"
   ]
  },
  {
   "cell_type": "markdown",
   "id": "8b123ae6",
   "metadata": {},
   "source": [
    "`axis = 1`을 입력하면 열 방향을 동작하여 결측치가 있는 열을 삭제한다. 즉 15개의 열 중 결측치가 존재하는 age, embarked, deck, embark_town 4개 열이 삭제되어 11개 열만 남게된다. 그러나 deck 열을 제외한 나머지 3개 열은 결측치가 얼마 없음에도 불구하고 일괄적으로 삭제되었다. 이러한 경우 기준치를 추가할 수 있다."
   ]
  },
  {
   "cell_type": "code",
   "execution_count": null,
   "id": "4ea564e5",
   "metadata": {},
   "outputs": [],
   "source": [
    "df.dropna(axis=1, thresh=300)"
   ]
  },
  {
   "cell_type": "markdown",
   "id": "ceba113b",
   "metadata": {},
   "source": [
    "`thresh = 300`는 결측치가 300개 이상 갖는 열을 삭제한다는 의미며, deck 열만 이 조건에 부합하여 삭제되었다.\n",
    "\n",
    "### 결측치 대체하기\n",
    "\n",
    "결측치가 있는 경우 데이터를 삭제해버리면 데이터의 양이 줄어들거나 편향되어 제대로 된 분석을 할 수 없을수도 있다. 따라서 데이터에 결측이 있을 경우 다른 값으로 대체하는 방법을 쓰기도 한다. 먼저 가장 간단한 방법은 특정 값으로 변경하는 것이며, 대표적으로 결측치를 평균으로 변경한다. 예를 들어 'age' 열의 결측치는 나머지 승객의 평균나이로 대체해보도록 하자."
   ]
  },
  {
   "cell_type": "code",
   "execution_count": null,
   "id": "6b0d1c99",
   "metadata": {},
   "outputs": [],
   "source": [
    "df_2 = df.copy()\n",
    "\n",
    "df_2.head(6)"
   ]
  },
  {
   "cell_type": "markdown",
   "id": "8ec55d09",
   "metadata": {},
   "source": [
    "먼저 데이터프레임을 복사한 후 데이터를 살펴보면, 6번째 행의 age가 NaN으로 나타난다."
   ]
  },
  {
   "cell_type": "code",
   "execution_count": null,
   "id": "f02016b5",
   "metadata": {},
   "outputs": [],
   "source": [
    "mean_age = df_2['age'].mean()\n",
    "print(mean_age)"
   ]
  },
  {
   "cell_type": "markdown",
   "id": "47160344",
   "metadata": {},
   "source": [
    "'age' 열의 평균을 구하면 대략 30세가 나온다. 이제 결측치를 해당 값으로 변경하며, 결측치를 특정 값으로 대체할 때는 `fillna()` 메서드를 사용하면 된다."
   ]
  },
  {
   "cell_type": "code",
   "execution_count": 66,
   "id": "864817d0",
   "metadata": {},
   "outputs": [],
   "source": [
    "df_2['age'].fillna(mean_age, inplace=True)"
   ]
  },
  {
   "cell_type": "markdown",
   "id": "bc71070f",
   "metadata": {},
   "source": [
    "`fillna()` 내에 인자를 입력하면 결측치를 해당 값으로 대체한다. 또한 `inplace = True`를 입력하면 원본 객체를 변경한다."
   ]
  },
  {
   "cell_type": "code",
   "execution_count": null,
   "id": "467a89a1",
   "metadata": {},
   "outputs": [],
   "source": [
    "df_2['age'].head(6)"
   ]
  },
  {
   "cell_type": "markdown",
   "id": "7083fa75",
   "metadata": {},
   "source": [
    "다시 데이터를 확인해보면 NaN 였던 6번째 행이 평균값인 29.699로 바뀌었다. \n",
    "\n",
    "`fillna()`를 통해 숫자가 아닌 문자로 변경할 수도 있다. embark_town의 결측치는 가장 데이터가 많은 'Southampton'으로 바꾸도록 하자."
   ]
  },
  {
   "cell_type": "code",
   "execution_count": 68,
   "id": "4ac36ebe",
   "metadata": {},
   "outputs": [],
   "source": [
    "df_2['embark_town'].fillna('Southampton', inplace=True)"
   ]
  },
  {
   "cell_type": "markdown",
   "id": "cf45c7d0",
   "metadata": {},
   "source": [
    "또한 서로 이웃하고 있는 데이터끼리는 유사성을 가질 가능성이 높으며, 특히 시계열 데이터는 더욱 그러하다. 이 경우 결측치를 바로 앞이나 뒤의 값으로 변경하는 것이 좋다. 먼저 결측치를 직전 행의 값으로 바꿔주는 예를 살펴보자."
   ]
  },
  {
   "cell_type": "code",
   "execution_count": null,
   "id": "79498e83",
   "metadata": {},
   "outputs": [],
   "source": [
    "df_2['deck_ffill'] = df_2['deck'].fillna(method='ffill')\n",
    "df_2['deck_bfill'] = df_2['deck'].fillna(method='bfill')\n",
    "\n",
    "df_2[['deck', 'deck_ffill', 'deck_bfill']].head(12)"
   ]
  },
  {
   "cell_type": "markdown",
   "id": "2819f76e",
   "metadata": {},
   "source": [
    "`fillna()` 메서드에 `method = 'ffill'`을 입력하면 결측치가 있는 경우 위의 행 중 결측치가 나타나기 전의 값으로 바꿔주며 'deck_ffill' 열을 통해 이를 확인할 수 있다. 1행의 경우 처음부터 결측치이므로 참조할 값이 없어 그대로 결측치로 남아있다.\n",
    "\n",
    "반면 `method = 'bfill'`을 입력하면 결측치가 있는 아래의 행 중 결측치가 아닌 첫 번째 값으로 바꿔주며, 'deck_bfill' 열을 통해 이를 확인할 수 있다.\n",
    "\n",
    "## 인덱스 다루기\n",
    "\n",
    "데이터프레임의 인덱스를 변경하거나 정렬하고, 재설정하는 법에 대해 살펴보도록 하자. 예제로써 seaborn 패키지의 mpg 데이터셋을 사용한다."
   ]
  },
  {
   "cell_type": "code",
   "execution_count": null,
   "id": "87362572",
   "metadata": {},
   "outputs": [],
   "source": [
    "import seaborn as sns\n",
    "\n",
    "df = sns.load_dataset('mpg')\n",
    "df.head()"
   ]
  },
  {
   "cell_type": "markdown",
   "id": "2e001630",
   "metadata": {},
   "source": [
    "인덱스를 확인해보면 [0, 1, 2, .. ]로 위치 인덱스의 형태로 입력되어 있다. 이처럼 데이터를 불러오면 일반적으로 위치 인덱스가 입력된다. 먼저 인덱스를 자동차 이름인 'name' 열을 인덱스로 설정하도록 하자. 인덱스 설정에는 `set_index()` 메서드가 사용된다."
   ]
  },
  {
   "cell_type": "code",
   "execution_count": null,
   "id": "63ff26a5",
   "metadata": {},
   "outputs": [],
   "source": [
    "df.set_index('name', inplace=True)\n",
    "df.head()"
   ]
  },
  {
   "cell_type": "markdown",
   "id": "20c3393a",
   "metadata": {},
   "source": [
    "`set_index()` 내에 인덱스로 설정하고자 하는 열을 입력하면 해당 열이 인덱스로 변경되며, `inplace = True`를 입력하면 원본 객체를 변경한다. 결과를 살펴보면 기존 'name' 열의 데이터가 인덱스로 변경되어 행 인덱스 형태가 되었다.\n",
    "\n",
    "이번에는 인덱스를 순서대로 정렬해보도록 하겠다. 인덱스 정렬에는 `sort_index()` 메서드가 사용된다."
   ]
  },
  {
   "cell_type": "code",
   "execution_count": null,
   "id": "6cfd1e53",
   "metadata": {},
   "outputs": [],
   "source": [
    "df.sort_index(inplace=True)\n",
    "df.head()"
   ]
  },
  {
   "cell_type": "markdown",
   "id": "d36d7b6b",
   "metadata": {},
   "source": [
    "`sort_index()` 메서드를 통해 인덱스가 알파벳 순서대로 정렬되며, 기본값인 오름차순(A→Z)으로 정렬된다."
   ]
  },
  {
   "cell_type": "code",
   "execution_count": null,
   "id": "1561e468",
   "metadata": {},
   "outputs": [],
   "source": [
    "df.sort_index(inplace=True, ascending=False)\n",
    "df.head()"
   ]
  },
  {
   "cell_type": "markdown",
   "id": "58860163",
   "metadata": {},
   "source": [
    "내림차순(Z→A) 순서로 정렬하고 싶을 경우 `ascending = False`를 입력해준다.\n",
    "\n",
    "마지막으로 인덱스 재설정에는 `reset_index()` 메서드를 사용한다."
   ]
  },
  {
   "cell_type": "code",
   "execution_count": null,
   "id": "82ac3ae1",
   "metadata": {},
   "outputs": [],
   "source": [
    "df.reset_index(inplace=True)\n",
    "df.head()"
   ]
  },
  {
   "cell_type": "markdown",
   "id": "4b417223",
   "metadata": {},
   "source": [
    "`reset_index()` 메서드를 사용하면 인덱스가 다시 [0, 1, 2..]의 위치 인덱스로 변경되며, 기존에 존재하던 인덱스는 'name' 열로 옮겨진다.\n",
    "\n",
    "## 필터링\n",
    "\n",
    "필터링이란 시리즈 혹은 데이터프레임의 데이터에서 조건을 만족하는 원소만 추출하는 것으로써, 엑셀의 필터와 비슷한 개념이다. 필터링에는 크게 불리언 인덱싱(boolean indexing)과 `isin()` 메서드가 사용된다. \n",
    "\n",
    "### 불리언 인덱싱\n",
    "\n",
    "먼저 불리언 인덱싱에 대해 알아보자. 시리즈 객체에 조건을 입력하면 각 원소에 대해 참 혹은 거짓을 판별하여 True/False로 이루어진 시리즈가 반환된다. 그 후 참에 해당하는 데이터만 선택하면 결과적으로 조건을 만족하는 데이터만 추출할 수 있다. mpg 데이터셋을 다시 불러오도록 하자."
   ]
  },
  {
   "cell_type": "code",
   "execution_count": null,
   "id": "105f526a",
   "metadata": {
    "scrolled": true
   },
   "outputs": [],
   "source": [
    "df = sns.load_dataset('mpg')\n",
    "df.tail(10)"
   ]
  },
  {
   "cell_type": "markdown",
   "id": "44d046b2",
   "metadata": {},
   "source": [
    "'cylinders' 열은 자동차의 실린더 개수를 의미하며, 어떠한 값이 있는지 확인해보자."
   ]
  },
  {
   "cell_type": "code",
   "execution_count": null,
   "id": "a51ecd6e",
   "metadata": {},
   "outputs": [],
   "source": [
    "df['cylinders'].unique()"
   ]
  },
  {
   "cell_type": "markdown",
   "id": "433b2418",
   "metadata": {},
   "source": [
    "`unique()` 메서드는 고유한 값을 반환하며, [3, 4, 5, 6, 8]이 있다. 이 중 실린더가 4인 조건을 입력한다."
   ]
  },
  {
   "cell_type": "code",
   "execution_count": null,
   "id": "926891f1",
   "metadata": {},
   "outputs": [],
   "source": [
    "filter_bool = (df['cylinders'] == 4)\n",
    "filter_bool.tail(10)"
   ]
  },
  {
   "cell_type": "markdown",
   "id": "537a12aa",
   "metadata": {},
   "source": [
    "`df['cylinders'] == 4`는 실린더 열이 4인 조건을 의미한다. 원래의 데이터와 비교해보면 실린더가 4인 원소는 True가, 그렇지 않으면 False가 반환되었다. 이제 해당 불리언 시리즈를 데이터프레임에 대입해보도록 한다."
   ]
  },
  {
   "cell_type": "code",
   "execution_count": null,
   "id": "a5408fec",
   "metadata": {},
   "outputs": [],
   "source": [
    "df.loc[filter_bool, ]"
   ]
  },
  {
   "cell_type": "markdown",
   "id": "be9115f6",
   "metadata": {},
   "source": [
    "행 인덱스에 불리언 시리즈를 입력하면 해당 조건을 만족하는 행만 선택되며, 총 398개 행 중 204개만 남게 되었다.\n",
    "\n",
    "조건을 하나가 아닌 여러개를 입력할 수도 있다. 이번에는 실린더 개수가 4개이고, 마력이 100 인상인 데이터를 선택해보도록 한다."
   ]
  },
  {
   "cell_type": "code",
   "execution_count": null,
   "id": "edf2c272",
   "metadata": {},
   "outputs": [],
   "source": [
    "filter_bool_2 = (df['cylinders'] == 4) & (df['horsepower'] >= 100)\n",
    "df.loc[filter_bool_2, ['cylinders', 'horsepower', 'name']]"
   ]
  },
  {
   "cell_type": "markdown",
   "id": "2c1e8bc2",
   "metadata": {},
   "source": [
    "`&` 연산자를 통해 원하는 조건들을 결합하면 두개 조건을 동시에 만족하는 데이터가 선택되었다. 또한 열 이름을 리스트 형태로 입력하면 해당 열만 선택된다. \n",
    "\n",
    "### `isin()` 메서드\n",
    "\n",
    "만일 name이 'ford maverick', 'ford mustang ii', 'chevrolet impala'인 데이터를 선택하려면 어떻게 해야할까? 불리언 인덱싱을 사용하면 다음과 같이 입력해야 한다."
   ]
  },
  {
   "cell_type": "code",
   "execution_count": null,
   "id": "b9460c40",
   "metadata": {},
   "outputs": [],
   "source": [
    "filter_bool_3 = (df['name'] == 'ford maverick') | (\n",
    "    df['name'] == 'fford mustang ii') | (df['name'] == 'chevrolet impala')\n",
    "df.loc[filter_bool_3, ]"
   ]
  },
  {
   "cell_type": "markdown",
   "id": "93acbe23",
   "metadata": {},
   "source": [
    "각각의 조건을 or 조건에 해당하는 `|` 연산자를 통해 결합하면 세 개 조건 중 하나를 만족하는 데이터가 선택된다. 그러나 이러한 방법은 코드가 너무 길어지며, `df['name']`가 계속해서 반복된다. `isin()` 메서드를 이용하면 특정 값을 가진 행을 추출할 수 있으며, 동일한 결과를 훨씬 간단하게 나타낼 수 있다."
   ]
  },
  {
   "cell_type": "code",
   "execution_count": null,
   "id": "140fc625",
   "metadata": {},
   "outputs": [],
   "source": [
    "filter_isin = df['name'].isin(\n",
    "    ['ford maverick', 'ford mustang ii', 'chevrolet impala'])\n",
    "df.loc[filter_isin, ]"
   ]
  },
  {
   "cell_type": "markdown",
   "id": "e297d6c2",
   "metadata": {},
   "source": [
    "`isin()` 메서드 내에 조건들을 리스트 형태로 입력하면, 해당 값이 존재하는 행은 True를, 값이 없으면 False를 반환한다. 결과를 확인해보면 위의 불리언 인덱싱을 사용한 방법과 값이 동일하다.\n",
    "\n",
    "마지막으로 선택된 조건을 horsepower 순으로 정렬해보도록 하자."
   ]
  },
  {
   "cell_type": "code",
   "execution_count": null,
   "id": "5ee62295",
   "metadata": {},
   "outputs": [],
   "source": [
    "df.loc[filter_isin, ].sort_values('horsepower')"
   ]
  },
  {
   "cell_type": "markdown",
   "id": "ba904937",
   "metadata": {},
   "source": [
    "`sort_values()` 메서드는 입력한 열의 값 기준으로 정렬을 해준다. horsepower가 낮은 것부터 오름차순으로 정렬이 되며, 내림차순으로 정렬하고자 하면 `ascending=False`을 입력하면 된다.\n",
    "\n",
    "## 새로운 열 만들기\n",
    "\n",
    "기존에 존재하는 데이터를 바탕으로 새로운 열을 만드는 법에 대해 알아보겠다. mpg 데이터셋에서 mpg 열은 연비, wt 열은 무게를 나타내며, 무게 대비 연비(mpg/wt)를 나타내는 'ratio' 열을 만들어보도록 하자."
   ]
  },
  {
   "cell_type": "code",
   "execution_count": null,
   "id": "75b1b8a5",
   "metadata": {},
   "outputs": [],
   "source": [
    "df['ratio'] = (df['mpg'] / df['weight']) * 100\n",
    "df.head()"
   ]
  },
  {
   "cell_type": "markdown",
   "id": "4b3f0add",
   "metadata": {},
   "source": [
    "시리즈끼리는 서로 연산이 가능하므로, mpg 열을 weight 열로 나눈 후 100을 곱한다. 그 후 데이터프레임에 `[ ]`를 붙여 새롭게 만들 열 이름을 입력하고 계산한 결과를 입력한다. 결과를 확인해보면 가장 오른쪽에 'ratio' 열이 새롭게 만들어진다.\n",
    "\n",
    "특정 열의 조건을 기반으로 새로운 열을 만들 수 있으며, 이 경우 조건문 함수가 사용된다. 조건문 함수는 특정 조건을 만족했는지 여부에 따라 서로 다른 값을 부여하며, 대표적으로 NumPy 패키지의 `where()` 함수가 사용된다. 아래의 예를 살펴보자."
   ]
  },
  {
   "cell_type": "code",
   "execution_count": null,
   "id": "46cb5bcf",
   "metadata": {},
   "outputs": [],
   "source": [
    "import numpy as np\n",
    "\n",
    "num = pd.Series([-2, -1, 1, 2])\n",
    "np.where(num >= 0)"
   ]
  },
  {
   "cell_type": "markdown",
   "id": "c046a1c5",
   "metadata": {},
   "source": [
    "먼저 -2부터 2까지 숫자로 이루어진 시리즈(num)를 만들었다, 그 후 `where()` 함수 내에 조건을 입력하면 조건이 True인 지점의 인덱스를 반환한다."
   ]
  },
  {
   "cell_type": "code",
   "execution_count": null,
   "id": "5fe5413b",
   "metadata": {},
   "outputs": [],
   "source": [
    "np.where(num >= 0, '양수', '음수')"
   ]
  },
  {
   "cell_type": "markdown",
   "id": "80ceca8d",
   "metadata": {},
   "source": [
    "조건 뒤의 두 번째와 세 번째 인자에 값을 추가하면 조건을 만족하는 부분은 두 번째 인자(양수)를, 그렇지 않은 부분은 세 번째 인자(음수)를 부여한다. 이는 엑셀에서의 `if` 함수와 같다. 이를 응용하여 horsepower가 100 미만, 100 이상, 200 이상인지를 구분하는 열을 만들어보도록 하자."
   ]
  },
  {
   "cell_type": "code",
   "execution_count": null,
   "id": "9154acb5",
   "metadata": {},
   "outputs": [],
   "source": [
    "import numpy as np\n",
    "\n",
    "df['horse_power_div'] = np.where(\n",
    "    df['horsepower'] < 100, '100 미만',\n",
    "    np.where((df['horsepower'] >= 100) & (df['horsepower'] < 200), '100 이상',\n",
    "             np.where(df['horsepower'] >= 200, '200 이상', '기타')))\n",
    "\n",
    "df.head(8)"
   ]
  },
  {
   "cell_type": "markdown",
   "id": "c6f3895b",
   "metadata": {},
   "source": [
    "먼저 `where()` 함수 내에 horsepower가 100 보다 작을 경우 '100 미만'이라고 입력한다. 그렇지 않을 경우에는 다시 `where()` 함수를 사용하여 horsepower가 100 이상이고 200 미만일 경우에는 '100 이상', horsepower가 200 보다 클 경우에는 '200 이상', 마지막으로 모든 조건을 만족하지 않으면 '기타'를 부여한다. 그 후 해당 결과를 'horse_power_div' 열에 추가하면 'horsepower'열을 조건으로 하는 새로운 열이 만들어진다.\n",
    "\n",
    "## 데이터프레임 합치기\n",
    "\n",
    "필요한 데이터가 하나의 데이터프레임에 모두 있는 경우는 드물다. 따라서 여러 데이터프레임을 하나로 합치거나 연결해야 할 경우가 많다. pandas에서 데이터프레임을 합치는 함수에는 `concat()`, `merge()`, `join()` 이 있다.\n",
    "\n",
    "### `concat()` 함수\n",
    "\n",
    "먼저 행 혹은 열 방향을 데이터프레임을 이어 붙이는 개념인 `concat()` 함수에 대해 살펴보도록 하자.\n"
   ]
  },
  {
   "cell_type": "code",
   "execution_count": null,
   "id": "eb873787",
   "metadata": {
    "deletable": false,
    "editable": false,
    "run_control": {
     "frozen": true
    }
   },
   "outputs": [],
   "source": [
    "import pandas as pd\n",
    "\n",
    "df1 = pd.DataFrame({\n",
    "    \"A\": [\"A0\", \"A1\", \"A2\", \"A3\"],\n",
    "    \"B\": [\"B0\", \"B1\", \"B2\", \"B3\"],\n",
    "    \"C\": [\"C0\", \"C1\", \"C2\", \"C3\"],\n",
    "    \"D\": [\"D0\", \"D1\", \"D2\", \"D3\"]\n",
    "},\n",
    "    index=[0, 1, 2, 3],\n",
    ")\n",
    "\n",
    "df2 = pd.DataFrame({\n",
    "    \"A\": [\"A4\", \"A5\", \"A6\", \"A7\"],\n",
    "    \"B\": [\"B4\", \"B5\", \"B6\", \"B7\"],\n",
    "    \"C\": [\"C4\", \"C5\", \"C6\", \"C7\"],\n",
    "    \"D\": [\"D4\", \"D5\", \"D6\", \"D7\"]\n",
    "},\n",
    "    index=[4, 5, 6, 7],\n",
    ")\n",
    "\n",
    "df3 = pd.DataFrame({\n",
    "    \"A\": [\"A8\", \"A9\", \"A10\", \"A11\"],\n",
    "    \"B\": [\"B8\", \"B9\", \"B10\", \"B11\"],\n",
    "    \"C\": [\"C8\", \"C9\", \"C10\", \"C11\"],\n",
    "    \"D\": [\"D8\", \"D9\", \"D10\", \"D11\"]\n",
    "},\n",
    "    index=[8, 9, 10, 11],\n",
    ")\n",
    "\n",
    "result = pd.concat([df1, df2, df3])\n",
    "\n",
    "result"
   ]
  },
  {
   "cell_type": "markdown",
   "id": "5079fed5",
   "metadata": {},
   "source": [
    "```{figure} image/eda/merging_concat_basic.png\n",
    "---\n",
    "name: merging_concat_basic\n",
    "---\n",
    "concat - 기본\n",
    "```\n",
    "\n",
    "데이터프레임 df1, df2, df3는 열 인덱스가 A, B, C, D로 이루어져 있다. 이들을 `concat()` 함수 내에 리스트 형태로 입력하면 행 방향으로 데이터프레임이 합쳐진다. 이번에는 열 이름이 서로 다른 경우를 살펴보자. "
   ]
  },
  {
   "cell_type": "code",
   "execution_count": null,
   "id": "2b0dba22",
   "metadata": {
    "deletable": false,
    "editable": false,
    "run_control": {
     "frozen": true
    }
   },
   "outputs": [],
   "source": [
    "df4 = pd.DataFrame({\n",
    "    \"B\": [\"B2\", \"B3\", \"B6\", \"B7\"],\n",
    "    \"D\": [\"D2\", \"D3\", \"D6\", \"D7\"],\n",
    "    \"F\": [\"F2\", \"F3\", \"F6\", \"F7\"]\n",
    "},\n",
    "    index=[2, 3, 6, 7]\n",
    ")\n",
    "\n",
    "result = pd.concat([df1, df4])\n",
    "\n",
    "result"
   ]
  },
  {
   "cell_type": "markdown",
   "id": "0c0f9500",
   "metadata": {},
   "source": [
    "```{figure} image/eda/merging_concat_ignore_index.png\n",
    "---\n",
    "name: merging_concat_ignore_index\n",
    "---\n",
    "concat - 열 이름이 다른 경우\n",
    "```\n",
    "\n",
    "df1은 열 이름이 A, B, C, D 이지만 df4는 열 이름이 B, D, F로 구성되어 있다. 이 두개의 데이터프레임을 `concat()` 함수로 합치면 열 이름이 합집합을 기준으로 생성되며, 해당하는 열에 데이터가 없는 경우 `NaN`으로 입력된다. df1의 경우 F열이 없으므로 NaN이, df4의 경우 A, C열이 없으므로 NaN으로 채워진다.\n",
    "\n",
    "행 인덱스를 초기화 하고 싶을 경우 `ignore_index=True`를 입력한다."
   ]
  },
  {
   "cell_type": "code",
   "execution_count": null,
   "id": "db2f8347",
   "metadata": {
    "deletable": false,
    "editable": false,
    "run_control": {
     "frozen": true
    }
   },
   "outputs": [],
   "source": [
    "result = pd.concat([df1, df4], ignore_index=True)\n",
    "\n",
    "result"
   ]
  },
  {
   "cell_type": "markdown",
   "id": "2e74c814",
   "metadata": {},
   "source": [
    "```{figure} image/eda/merging_concat_ignore_index_row.png\n",
    "---\n",
    "name: merging_concat_ignore_index_row\n",
    "---\n",
    "concat - 행 인덱스 초기화\n",
    "```\n",
    "\n",
    "기존에는 원래 데이터프레임의 행 인덱스가 그대로 유지되었으나, `ignore_index=True`를 입력하면 행 인덱스가 초기화 되어 0에서부터 7까지의 값을 가진다.\n",
    "\n",
    "이번에는 행이 아닌 열 기준으로 데이터를 합쳐보도록 하자."
   ]
  },
  {
   "cell_type": "code",
   "execution_count": null,
   "id": "8fe4764d",
   "metadata": {
    "deletable": false,
    "editable": false,
    "run_control": {
     "frozen": true
    }
   },
   "outputs": [],
   "source": [
    "result = pd.concat([df1, df4], axis=1)\n",
    "\n",
    "result"
   ]
  },
  {
   "cell_type": "markdown",
   "id": "ebe7d269",
   "metadata": {},
   "source": [
    "```{figure} image/eda/merging_concat_axis1.png\n",
    "---\n",
    "name: merging_concat_axis1\n",
    "---\n",
    "concat - 열 방향으로 합치기\n",
    "```\n",
    "\n",
    "`axis=1` 인자를 입력하면 열 방향으로 데이터가 합쳐지며, 행 인덱스를 기준으로 연결된다. df1은 행 인덱스가 0, 1, 2, 3이며 df4는 행 인덱스가 2, 3, 6, 7이다. 따라서 `concat()` 함수의 결과 행 인덱스는 합집합인 0, 1, 2, 3, 6, 7이 생성되며 해당하는 행에 데이터가 없을 경우 `NaN`으로 입력된다. 만일 합집합이 아닌 교집합을 기준으로 사용하고 싶을 경우 `join = inner` 인자를 추가로 입력한다."
   ]
  },
  {
   "cell_type": "code",
   "execution_count": null,
   "id": "396dfd91",
   "metadata": {
    "deletable": false,
    "editable": false,
    "run_control": {
     "frozen": true
    }
   },
   "outputs": [],
   "source": [
    "result = pd.concat([df1, df4], axis=1, join=\"inner\")\n",
    "\n",
    "result"
   ]
  },
  {
   "cell_type": "markdown",
   "id": "055526da",
   "metadata": {},
   "source": [
    "```{figure} image/eda/merging_concat_axis1_inner.png\n",
    "---\n",
    "name: merging_concat_axis1_inner\n",
    "---\n",
    "concat - 열 방향으로 합치기 (교집합)\n",
    "```\n",
    "\n",
    "두 데이터프레임이 공통으로 존재하는 행 인덱스인 2, 3을 기준으로만 데이터가 합쳐졌다. \n",
    "\n",
    "데이터프레임에 시리즈를 합칠수도 있다."
   ]
  },
  {
   "cell_type": "code",
   "execution_count": 28,
   "id": "bc414074",
   "metadata": {
    "deletable": false,
    "editable": false,
    "run_control": {
     "frozen": true
    }
   },
   "outputs": [
    {
     "ename": "NameError",
     "evalue": "name 'df1' is not defined",
     "output_type": "error",
     "traceback": [
      "\u001b[1;31m---------------------------------------------------------------------------\u001b[0m",
      "\u001b[1;31mNameError\u001b[0m                                 Traceback (most recent call last)",
      "Cell \u001b[1;32mIn[28], line 2\u001b[0m\n\u001b[0;32m      1\u001b[0m s1 \u001b[38;5;241m=\u001b[39m pd\u001b[38;5;241m.\u001b[39mSeries([\u001b[38;5;124m\"\u001b[39m\u001b[38;5;124mX0\u001b[39m\u001b[38;5;124m\"\u001b[39m, \u001b[38;5;124m\"\u001b[39m\u001b[38;5;124mX1\u001b[39m\u001b[38;5;124m\"\u001b[39m, \u001b[38;5;124m\"\u001b[39m\u001b[38;5;124mX2\u001b[39m\u001b[38;5;124m\"\u001b[39m, \u001b[38;5;124m\"\u001b[39m\u001b[38;5;124mX3\u001b[39m\u001b[38;5;124m\"\u001b[39m], name\u001b[38;5;241m=\u001b[39m\u001b[38;5;124m\"\u001b[39m\u001b[38;5;124mX\u001b[39m\u001b[38;5;124m\"\u001b[39m)\n\u001b[1;32m----> 2\u001b[0m result \u001b[38;5;241m=\u001b[39m pd\u001b[38;5;241m.\u001b[39mconcat([\u001b[43mdf1\u001b[49m, s1], axis\u001b[38;5;241m=\u001b[39m\u001b[38;5;241m1\u001b[39m)\n\u001b[0;32m      4\u001b[0m result\n",
      "\u001b[1;31mNameError\u001b[0m: name 'df1' is not defined"
     ]
    }
   ],
   "source": [
    "s1 = pd.Series([\"X0\", \"X1\", \"X2\", \"X3\"], name=\"X\")\n",
    "result = pd.concat([df1, s1], axis=1)\n",
    "\n",
    "result"
   ]
  },
  {
   "cell_type": "markdown",
   "id": "d3eadd61",
   "metadata": {},
   "source": [
    "```{figure} image/eda/merging_concat_mixed_ndim.png\n",
    "---\n",
    "name: merging_concat_mixed_ndim\n",
    "---\n",
    "concat - 시리즈 합치기\n",
    "```\n",
    "\n",
    "원래 데이터프레임의 각 열은 시리즈로 구성되어 있으므로, 기존의 데이터프레임에 시리즈를 합칠수 있다.\n",
    "\n",
    "### `merge()` 함수\n",
    "\n",
    "`merge()` 함수는 기준이 되는 열이나 인덱스, 즉 키(key)를 기준으로 두 데이터프레임을 합친다. 데이터프레임을 병합하는 방법은 크게 inner join, left join, right join, outer join으로 구분된다.\n",
    "\n",
    "- inner join: `pd.merge(left, right, on = ‘key’, how = 'inner')` (`how = 'inner'`는 생략 가능)\n",
    "- left join: `pd.merge(left, right, on = ‘key’, how = 'left')`\n",
    "- right join: `pd.merge(left, right, on = ‘key’, how = 'right')`\n",
    "- outer join: `pd.merge(left, right, on = ‘key’, how = 'outer')`\n",
    "\n",
    "\n",
    "```{figure} image/eda/inner_join.png\n",
    "---\n",
    "scale: 50%\n",
    "name: inner_join\n",
    "---\n",
    "inner join\n",
    "```\n",
    "\n",
    "inner join은 양쪽 데이터프레임에서 기준이 되는 열의 데이터가 모두 있는 교집합 부분만 반환한다. 예를 살펴보자."
   ]
  },
  {
   "cell_type": "code",
   "execution_count": null,
   "id": "83816525",
   "metadata": {
    "deletable": false,
    "editable": false,
    "run_control": {
     "frozen": true
    }
   },
   "outputs": [],
   "source": [
    "left = pd.DataFrame({\n",
    "    \"key\": [\"K0\", \"K1\", \"K2\", \"K3\"],\n",
    "    \"A\": [\"A0\", \"A1\", \"A2\", \"A3\"],\n",
    "    \"B\": [\"B0\", \"B1\", \"B2\", \"B3\"]\n",
    "})\n",
    "\n",
    "\n",
    "right = pd.DataFrame({\n",
    "    \"key\": [\"K0\", \"K1\", \"K3\", \"K4\"],\n",
    "    \"C\": [\"C0\", \"C1\", \"C3\", \"C4\"],\n",
    "    \"D\": [\"D0\", \"D1\", \"D3\", \"D4\"],\n",
    "})\n",
    "\n",
    "result = pd.merge(left, right, on=\"key\")\n",
    "\n",
    "result"
   ]
  },
  {
   "cell_type": "markdown",
   "id": "41f1d8ff",
   "metadata": {},
   "source": [
    "```{figure} image/eda/inner_join_result.png\n",
    "---\n",
    "name: inner_join_result\n",
    "---\n",
    "inner join 결과\n",
    "```\n",
    "\n",
    "합치려는 두 데이터프레임을 `merge()` 함수에 입력하며, 기준이 되는 열을 `on` 뒤에 입력한다. `merge()` 함수는 기본적으로 inner join으로 데이터를 합친다. left 데이터프레임에서 key 열의 값은 K0, K1, K2, K3이며, right 데이터프레임에서 key 열의 값은 K0, K1, K3, K4다. 따라서 key 열의 데이터가 둘의 교집합에 해당하는 K0, K1, K3인 행만 선택되어 열 방향으로 합쳐졌다.\n",
    "\n",
    "```{figure} image/eda/left_join.png\n",
    "---\n",
    "scale: 50%\n",
    "name: left_join\n",
    "---\n",
    "left join\n",
    "```\n",
    "\n",
    "left join은 왼쪽 데이터프레임은 유지가 되며, 오른쪽 데이터프레임이 키를 기준으로 합쳐진다."
   ]
  },
  {
   "cell_type": "code",
   "execution_count": null,
   "id": "cb2ce61c",
   "metadata": {
    "deletable": false,
    "editable": false,
    "run_control": {
     "frozen": true
    }
   },
   "outputs": [],
   "source": [
    "result = pd.merge(left, right, on=\"key\", how='left')\n",
    "\n",
    "result"
   ]
  },
  {
   "cell_type": "markdown",
   "id": "b571da81",
   "metadata": {},
   "source": [
    "```{figure} image/eda/left_join_result.png\n",
    "---\n",
    "name: left_join_result\n",
    "---\n",
    "left join 결과\n",
    "```\n",
    "\n",
    "먼저 left 데이터프레임은 형태를 유지하며, right 데이터프레임은 키 값을 기준으로 열 방향으로 합쳐진다. right 데이터프레임의 key 열에는 K2 값이 없으므로 해당 부분은 NaN으로 채워지며, right 데이터프레임에만 존재하는 K4 값에 해당하는 부분은 삭제된다.\n",
    "\n",
    "```{figure} image/eda/right_join.png\n",
    "---\n",
    "scale: 50%\n",
    "name: right_join\n",
    "---\n",
    "right join\n",
    "```\n",
    "\n",
    "right join은 left join과 반대로 오른쪽 데이터프레임이 유지가 되며, 왼쪽 데이터프레임이 키를 기준으로 합쳐진다."
   ]
  },
  {
   "cell_type": "code",
   "execution_count": null,
   "id": "0a05b6e3",
   "metadata": {
    "deletable": false,
    "editable": false,
    "run_control": {
     "frozen": true
    }
   },
   "outputs": [],
   "source": [
    "result = pd.merge(left, right, on=\"key\", how='right')\n",
    "\n",
    "result"
   ]
  },
  {
   "cell_type": "markdown",
   "id": "d285b114",
   "metadata": {},
   "source": [
    "```{figure} image/eda/right_join_result.png\n",
    "---\n",
    "name: right_join_result\n",
    "---\n",
    "right join 결과\n",
    "```\n",
    "\n",
    "이번에는 right 데이터프레임에 있는 key 값인 K0, K1, K3, K4을 기준으로 left 데이터프레임이 합쳐졌다.\n",
    "\n",
    "```{figure} image/eda/outer_join.png\n",
    "---\n",
    "scale: 50%\n",
    "name: outer_join\n",
    "---\n",
    "outer join\n",
    "```\n",
    "\n",
    "outer join은 데이터프레임 중 어느 한쪽에만 속하더라도 상관없이 합집합 부분을 반환한다."
   ]
  },
  {
   "cell_type": "code",
   "execution_count": null,
   "id": "612c1204",
   "metadata": {
    "deletable": false,
    "editable": false,
    "run_control": {
     "frozen": true
    }
   },
   "outputs": [],
   "source": [
    "result = pd.merge(left, right, on=\"key\", how='outer')\n",
    "\n",
    "result"
   ]
  },
  {
   "cell_type": "markdown",
   "id": "4ce7406f",
   "metadata": {},
   "source": [
    "```{figure} image/eda/outer_join_result.png\n",
    "---\n",
    "name: outer_join_result\n",
    "---\n",
    "outer join 결과\n",
    "```\n",
    "\n",
    "두 데이터프레임의 key 열에 존재하는 모든 데이터 K0, K1, K2, K3, K4를 기준으로 데이터들이 합쳐진다.\n",
    "\n",
    "기준이 되는 열의 이름이 서로 다른 경우는 `left_on`과 `right_on`을 통해 키를 직접 선언한다."
   ]
  },
  {
   "cell_type": "code",
   "execution_count": null,
   "id": "909b6825",
   "metadata": {
    "deletable": false,
    "editable": false,
    "run_control": {
     "frozen": true
    }
   },
   "outputs": [],
   "source": [
    "left = pd.DataFrame({\n",
    "    \"key_left\": [\"K0\", \"K1\", \"K2\", \"K3\"],\n",
    "    \"A\": [\"A0\", \"A1\", \"A2\", \"A3\"],\n",
    "    \"B\": [\"B0\", \"B1\", \"B2\", \"B3\"]\n",
    "})\n",
    "\n",
    "\n",
    "right = pd.DataFrame({\n",
    "    \"key_right\": [\"K0\", \"K1\", \"K3\", \"K4\"],\n",
    "    \"C\": [\"C0\", \"C1\", \"C3\", \"C4\"],\n",
    "    \"D\": [\"D0\", \"D1\", \"D3\", \"D4\"],\n",
    "})\n",
    "\n",
    "result = pd.merge(left, right, left_on='key_left',\n",
    "                  right_on='key_right', how='inner')\n",
    "\n",
    "result"
   ]
  },
  {
   "cell_type": "markdown",
   "id": "07b163c9",
   "metadata": {},
   "source": [
    "```{figure} image/eda/left_join_result_diff.png\n",
    "---\n",
    "name: left_join_result_diff\n",
    "---\n",
    "left join (키가 다른 경우)\n",
    "```\n",
    "\n",
    "`merge(left, right)`가 아닌 `left.merge(right)` 형태로 함수를 작성할 수도 있다."
   ]
  },
  {
   "cell_type": "code",
   "execution_count": null,
   "id": "1b5fa4bd",
   "metadata": {
    "deletable": false,
    "editable": false,
    "run_control": {
     "frozen": true
    }
   },
   "outputs": [],
   "source": [
    "result = left.merge(right, left_on='key_left',\n",
    "                    right_on='key_right', how='inner')\n",
    "\n",
    "result"
   ]
  },
  {
   "cell_type": "markdown",
   "id": "4f65147a",
   "metadata": {},
   "source": [
    "```{figure} image/eda/left_join_result_diff.png\n",
    "---\n",
    "name: left_join_result_diff\n",
    "---\n",
    "left.merge(right) 형태\n",
    "```\n",
    "\n",
    "해당 방법으로 코드를 작성할 경우 왼쪽 데이터프레임에 오른쪽 데이터프레임을 붙인다는 점이 더욱 직관적으로 표현된다.\n",
    "\n",
    "### `join()` 메서드\n",
    "\n",
    "`join()` 메서드는 `merge()` 함수를 기반으로 만들어져 사용방법이 거의 비슷하다. 다만, `join()` 메서드는 두 데이터프레임의 행 인덱스를 기준으로 데이터를 결합한다."
   ]
  },
  {
   "cell_type": "code",
   "execution_count": null,
   "id": "70c932a1",
   "metadata": {
    "deletable": false,
    "editable": false,
    "run_control": {
     "frozen": true
    }
   },
   "outputs": [],
   "source": [
    "left = pd.DataFrame({\n",
    "    \"A\": [\"A0\", \"A1\", \"A2\", \"A3\"],\n",
    "    \"B\": [\"B0\", \"B1\", \"B2\", \"B3\"]},\n",
    "    index=[\"K0\", \"K1\", \"K2\", \"K3\"]\n",
    ")\n",
    "\n",
    "\n",
    "right = pd.DataFrame({\n",
    "    \"C\": [\"C0\", \"C1\", \"C3\", \"C4\"],\n",
    "    \"D\": [\"D0\", \"D1\", \"D3\", \"D4\"]},\n",
    "    index=[\"K0\", \"K1\", \"K3\", \"K4\"])\n",
    "\n",
    "result = left.join(right)\n",
    "\n",
    "result"
   ]
  },
  {
   "cell_type": "markdown",
   "id": "7f2db68b",
   "metadata": {},
   "source": [
    "```{figure} image/eda/join.png\n",
    "---\n",
    "name: join\n",
    "---\n",
    "join 함수\n",
    "```\n",
    "\n",
    "`join()` 메서드는 디폴트로 left join 방법을 사용한다. `merge()` 함수는 키를 기준으로 결합을, `join()` 메서드는 행 인덱스를 기준으로 결합을 한다는 점을 제외하고 나머지 사용법은 거의 비슷하다.\n",
    "\n",
    "## 데이터 재구조화\n",
    "\n",
    "데이터프레임의 행과 열 구조를 변형하거나, 특정 요인에 따라 집계를 하는 방법에 대해 알아보겠다. pandas에서 데이터 재구조화에 사용되는 함수는 `melt()`, `pivot_table()`, `stack()`, `unstack()` 등이 있다. 예제로써 seaborn 패키지의 팽귄 데이터를 사용한다."
   ]
  },
  {
   "cell_type": "code",
   "execution_count": null,
   "id": "0a8441e8",
   "metadata": {},
   "outputs": [],
   "source": [
    "import seaborn as sns\n",
    "\n",
    "df = sns.load_dataset('penguins')\n",
    "df.head()"
   ]
  },
  {
   "cell_type": "markdown",
   "id": "3cc05019",
   "metadata": {},
   "source": [
    "해당 데이터는 팔머(Palmer) 펭귄의 세가지 종에 대한 데이터이며, 각 열의 내용은 다음과 같다.\n",
    "\n",
    "- species: 펭귄 종으로써 아델리(Adelie), 젠투(Gentoo), 턱끈(Chinstrap) 펭귄 세가지 종이 있다.\n",
    "- island: 남극의 펭귄 서식지로써 Torgersen, Biscoe, Dream가 있다.\n",
    "- bill_length_mm: 부리의 길이에 해당한다.\n",
    "- bill_depth_mm: 부리의 위아래 두께에 해당한다.\n",
    "- flipper_length_mm: 펭귄의 날개에 해당한다.\n",
    "- body_mass_g: 몸무게에 해당한다.\n",
    "- sex: 성별에 해당한다.\n",
    "\n",
    "#### `melt()`\n",
    "\n",
    "`melt()` 함수는 ID 변수를 기준으로 원본 데이터프레임의 열 이름들을 variable 열에, 각 열에 있던 데이터는 value 열에 넣어 아래로 긴 형태로 만들어준다."
   ]
  },
  {
   "cell_type": "code",
   "execution_count": null,
   "id": "a43a4d46",
   "metadata": {},
   "outputs": [],
   "source": [
    "df.melt(id_vars=['species', 'island']).head(10)"
   ]
  },
  {
   "cell_type": "markdown",
   "id": "1c9d59a1",
   "metadata": {},
   "source": [
    "`id_vars`에 입력한 열은 식별자 변수에 해당하므로 원래의 열이 그대로 유지된다. 반면 그 외의 열 이름인 bill_length_mm,\tbill_depth_mm, flipper_length_mm, body_mass_g, sex가 variable 열에 입력되며, 각 열의 데이터가 value 열에 매칭된다.\n",
    "\n",
    "### `pivot_table()`\n",
    "\n",
    "`pivot_table()` 함수는 엑셀의 피벗 테이블과 비슷하며 총 4개 입력값이 필요하다.\n",
    "\n",
    "- index: 행 인덱스\n",
    "- columns: 열 인덱스\n",
    "- values: 데이터 값\n",
    "- aggfunc: 데이터 집계 함수\n",
    "\n",
    "펭귄 데이터의 species와 island 별로 bill_length_mm의 평균을 구해보자."
   ]
  },
  {
   "cell_type": "code",
   "execution_count": null,
   "id": "fe94407e",
   "metadata": {},
   "outputs": [],
   "source": [
    "df_pivot_1 = df.pivot_table(index='species',\n",
    "                            columns='island',\n",
    "                            values='bill_length_mm',\n",
    "                            aggfunc='mean')\n",
    "\n",
    "df_pivot_1"
   ]
  },
  {
   "cell_type": "markdown",
   "id": "235a34ca",
   "metadata": {},
   "source": [
    "행 인덱스에는 species, 열 인덱스에는 island, 데이터 값에는 bill_length_mm, 집계 함수는 mean을 입력하면 테이블 형태의 결과를 반환한다. Chinstrap-Biscoe, Chinstrap-Torgersen, Gentoo-Dream, Gentoo-Torgersen 처럼 데이터가 없는 값은 NaN으로 채워진다.\n",
    "\n",
    "각 인덱스를 하나가 아닌 여러개를 입력할 수 있으며, 데이터 값, 집계 함수 역시 여러개를 입력할 수 있다."
   ]
  },
  {
   "cell_type": "code",
   "execution_count": null,
   "id": "ed24dda8",
   "metadata": {},
   "outputs": [],
   "source": [
    "df_pivot_2 = df.pivot_table(index=['species', 'sex'],\n",
    "                            columns='island',\n",
    "                            values=['bill_length_mm', 'flipper_length_mm'],\n",
    "                            aggfunc=['mean', 'count'])\n",
    "\n",
    "df_pivot_2"
   ]
  },
  {
   "cell_type": "markdown",
   "id": "144a22cb",
   "metadata": {},
   "source": [
    "행으로는 species와 sex, 열로는 island, 데이터 값에는 bill_length_mm와 flipper_length_mm을 입력했으며, 집계 함수로 입력한 평균 및 갯수가 계산되었다. 이처럼 복수의 조건을 입력하고 싶을 경우는 리스트 형태로 입력하면 된다.\n",
    "\n",
    "### `stack()`과 `unstack()`\n",
    "\n",
    "`stack()` 메서드와 `unstack()` 메서드는 열 인덱스를 행 인덱스로 바꾸거나 반대로 행 인덱스를 열 인덱스로 변경한다.\n",
    "\n",
    "- `stack()`: 열 인덱스를 행 인덱스로 변환\n",
    "- `unstack()`: 행 인덱스를 열 인덱스로 변환\n",
    "\n",
    "먼저 `pivot_table()`을 통해 아래의 데이터프레임을 만들자."
   ]
  },
  {
   "cell_type": "code",
   "execution_count": null,
   "id": "2dda7652",
   "metadata": {},
   "outputs": [],
   "source": [
    "df_pivot_4 = df.pivot_table(index=['species', 'sex'],\n",
    "                            columns='island',\n",
    "                            values='bill_length_mm',\n",
    "                            aggfunc='mean')\n",
    "\n",
    "df_pivot_4"
   ]
  },
  {
   "cell_type": "markdown",
   "id": "aa013c7d",
   "metadata": {},
   "source": [
    "위 데이터프레임에 `stack()` 메서드를 적용해보자."
   ]
  },
  {
   "cell_type": "code",
   "execution_count": null,
   "id": "13d6f845",
   "metadata": {},
   "outputs": [],
   "source": [
    "df_pivot_4.stack()"
   ]
  },
  {
   "cell_type": "markdown",
   "id": "ad7347a6",
   "metadata": {},
   "source": [
    "열 인덱스인 Biscoe, Dream, Torgersen이 행 인덱스로 변경되었다. 해당 결과물은 시리즈 형태이며, 데이터프레임으로 변경하고 싶을 경우 `to_frame()` 메서드를 추가한다."
   ]
  },
  {
   "cell_type": "code",
   "execution_count": null,
   "id": "1195bc84",
   "metadata": {},
   "outputs": [],
   "source": [
    "df_pivot_4.stack().to_frame()"
   ]
  },
  {
   "cell_type": "markdown",
   "id": "7c986e26",
   "metadata": {},
   "source": [
    "이번에는 `unstack()` 메서드를 적용해보도록 하자."
   ]
  },
  {
   "cell_type": "code",
   "execution_count": null,
   "id": "6e572862",
   "metadata": {},
   "outputs": [],
   "source": [
    "df_pivot_4.unstack()"
   ]
  },
  {
   "cell_type": "markdown",
   "id": "b015a3e7",
   "metadata": {},
   "source": [
    "행 인덱스인 Female, Male이 열 인덱스로 변경되었다.\n",
    "\n",
    "## 데이터프레임에 함수 적용하기\n",
    "\n",
    "`apply()` 메서드를 사용하면 시리즈나 데이터프레임의 개별 원소에 함수를 적용할 수 있다. 이는 사용자가 직접 만든 함수(lambda 함수 포함)를 적용할 수 있어 기본함수로 처리하기 어려운 복잡한 연산도 가능하며, for문을 사용해 각 데이터에 함수를 적용하는 것 보다 더 빠르게 연산이 가능하다.\n",
    "\n",
    "### 시리즈에 함수 적용하기\n",
    "\n",
    "시리즈 객체에 `apply()` 메서드를 적용하면 모든 원소를 함수에 적용하여 결과값을 반환한다.\n",
    "\n",
    "- `series.apply(함수)`\n",
    "\n",
    "먼저 펭귄 데이터에서 'bill_length_mm' 열만 선택해 샘플 시리즈 객체를 만들어 보자."
   ]
  },
  {
   "cell_type": "code",
   "execution_count": null,
   "id": "c597bfc7",
   "metadata": {},
   "outputs": [],
   "source": [
    "import seaborn as sns\n",
    "\n",
    "df = sns.load_dataset('penguins')\n",
    "bill_length_mm = df['bill_length_mm']\n",
    "\n",
    "bill_length_mm.head()"
   ]
  },
  {
   "cell_type": "markdown",
   "id": "04526a53",
   "metadata": {},
   "source": [
    "해당 시리즈 원소들의 제곱근을 구해보도록 하겠다."
   ]
  },
  {
   "cell_type": "code",
   "execution_count": null,
   "id": "99b5e116",
   "metadata": {},
   "outputs": [],
   "source": [
    "import numpy as np\n",
    "\n",
    "result = bill_length_mm.apply(np.sqrt)\n",
    "result.head()"
   ]
  },
  {
   "cell_type": "markdown",
   "id": "5a723b8c",
   "metadata": {},
   "source": [
    "`numpy` 패키지의 `sqrt()` 함수는 제곱근을 구해준다. 먼저 `apply()` 메서드 내부에 해당 함수를 입력하면, 'bill_length_mm' 시리즈의 모든 원소들에 함수가 적용되어 제곱근이 구해진다. 이번에는 함수를 새롭게 만든 후 시리즈에 적용해보도록 하자."
   ]
  },
  {
   "cell_type": "code",
   "execution_count": null,
   "id": "3fe68306",
   "metadata": {},
   "outputs": [],
   "source": [
    "def mm_to_cm(num):\n",
    "    return num / 10\n",
    "\n",
    "result_2 = bill_length_mm.apply(mm_to_cm)\n",
    "result_2.head()"
   ]
  },
  {
   "cell_type": "markdown",
   "id": "c813bd3a",
   "metadata": {},
   "source": [
    "`mm_to_cm()` 함수는 숫자를 입력하면 10으로 나눈 결과를 반환한다. 위와 동일하게 `apply()` 메서드 내부에 해당 함수를 입력하면 시리즈의 모든 원소가 10으로 나누어진다.\n",
    "\n",
    "### 데이터프레임에 함수 적용하기\n",
    "\n",
    "데이터프레임에 `apply()` 메서드를 적용하면 모든 열 혹은 행을 하나씩 분리하여 함수에 각 원소가 전달된 후 값이 반환된다. 각 열 혹은 행에 함수를 적용하는 법은 다음과 같다.\n",
    "\n",
    "- 각 열에 적용: `DataFrame.apply(함수)` 혹은 `DataFrame.apply(함수, axis = 0)`\n",
    "- 각 행에 적용: `DataFrame.apply(함수, axis = 1)`\n",
    "\n",
    "먼저 펭귄 데이터셋에서 숫자로만 이루어진 열을 선택해보자."
   ]
  },
  {
   "cell_type": "code",
   "execution_count": null,
   "id": "2439217b",
   "metadata": {},
   "outputs": [],
   "source": [
    "df_num = df[['bill_length_mm', 'bill_depth_mm',\n",
    "             'flipper_length_mm', 'body_mass_g']]\n",
    "df_num.head()"
   ]
  },
  {
   "cell_type": "markdown",
   "id": "e2e6f47a",
   "metadata": {},
   "source": [
    "이제 위 데이터프레임에 `apply()` 메서드를 이용해 최대값을 구하는 `max()` 함수를 적용해본다. 먼저 각 열에 함수를 적용해보자."
   ]
  },
  {
   "cell_type": "code",
   "execution_count": null,
   "id": "633ab6eb",
   "metadata": {},
   "outputs": [],
   "source": [
    "df_num.apply(max)\n",
    "# df_num.apply(max, axis=0)"
   ]
  },
  {
   "cell_type": "markdown",
   "id": "7a68fb1e",
   "metadata": {},
   "source": [
    "`apply(max)` 혹은 `apply(max, axis=0)`를 입력하면 각 열 별로 최대값을 구한다. 이번에는 각 행에 함수를 적용해보자."
   ]
  },
  {
   "cell_type": "code",
   "execution_count": null,
   "id": "a0ec5876",
   "metadata": {},
   "outputs": [],
   "source": [
    "df_num.apply(max, axis=1)"
   ]
  },
  {
   "cell_type": "markdown",
   "id": "886d0766",
   "metadata": {},
   "source": [
    "함수를 적용하는 방향을 의미하는 `axis`에 1을 입력하면 각 행에 함수를 적용한다. 즉 첫번째 행에서 최대값은 3750.0, 두 번째 행에서 최대값은 3800.0이 계산된다.\n",
    "\n",
    "시리즈와 마찬가지로 함수를 직접 만든 후 이를 적용할 수도 있다. 각 열에서 결측치가 얼마나 있는지 확인해보자."
   ]
  },
  {
   "cell_type": "code",
   "execution_count": null,
   "id": "81df4b9c",
   "metadata": {},
   "outputs": [],
   "source": [
    "def num_null(data):\n",
    "    null_vec = pd.isnull(data)\n",
    "    null_count = np.sum(null_vec)\n",
    "\n",
    "    return null_count\n",
    "\n",
    "df_num.apply(num_null)"
   ]
  },
  {
   "cell_type": "markdown",
   "id": "aa1deafd",
   "metadata": {},
   "source": [
    "1. `isnull()` 함수는 결측치 여부를 판단하며, 결측치면 True, 아니면 False를 반환한다.\n",
    "2. True는 1, False는 0과 매칭되므로, `sum()` 함수를 통해 위에서 계산된 값을 더하면 True에 해당하는 값이 더해져 결측치의 갯수를 의미한다.\n",
    "3. `apply()` 메서드를 통해 각 열에 해당 함수를 적용한다.\n",
    "\n",
    "모든 열에서 결측치가 2개씩 있는 것이 확인된다.\n",
    "\n",
    "## 그룹 연산하기\n",
    "\n",
    "데이터를 특정 기준에 따라 그룹으로 나눈 후 처리하는 작업을 그룹 연산이라고 한다. 그룹 연산은 일반적으로 3단계 과정으로 이루어진다.\n",
    "\n",
    "- 분할(split): 데이터를 특정 기준에 따라 분할\n",
    "- 적용(apply): 데이터를 집계, 변환, 필터링하는 메서드 적용\n",
    "- 결합(combine): 적용의 결과를 하나로 결합\n",
    "\n",
    "```{figure} image/eda/group.png\n",
    "---\n",
    "name: group\n",
    "---\n",
    "그룹 연산의 개념\n",
    "```\n",
    "\n",
    "{numref}`group`은 그룹 연산의 개념을 그림으로 나타낸 것이다. 먼저 데이터프레임에서 'Col 1'이 A, B, C인 데이터 별로 그룹을 나눈 후, 각 그룹에서 'Col 2'의 합을 구한다. 마지막으로 계산된 결과를 하나로 합친다. 펭귄 데이터셋을 통해 그룹 연산을 배워보도록 하자."
   ]
  },
  {
   "cell_type": "code",
   "execution_count": null,
   "id": "7e2be63b",
   "metadata": {},
   "outputs": [],
   "source": [
    "import seaborn as sns\n",
    "\n",
    "df = sns.load_dataset('penguins')\n",
    "df.head()"
   ]
  },
  {
   "cell_type": "markdown",
   "id": "affc3c7e",
   "metadata": {},
   "source": [
    "### 그룹 나누기\n",
    "\n",
    "먼저 'species'에 따라 데이터의 그룹을 나눠주도록 하며, `groupby()` 메서드를 사용한다."
   ]
  },
  {
   "cell_type": "code",
   "execution_count": null,
   "id": "501defd5",
   "metadata": {},
   "outputs": [],
   "source": [
    "df_group = df.groupby(['species'])\n",
    "\n",
    "df_group"
   ]
  },
  {
   "cell_type": "code",
   "execution_count": null,
   "id": "f026b4e6",
   "metadata": {},
   "outputs": [],
   "source": [
    "df_group.head(2)"
   ]
  },
  {
   "cell_type": "markdown",
   "id": "2e7d0992",
   "metadata": {},
   "source": [
    "`groupby()` 메서드 내에 기준이 되는 열을 입력하면 그룹 객체가 만들어진다. 현재는 분할만 이루어진 상태이므로 데이터를 출력해도 기존의 데이터프레임과는 크게 차이가 나지 않는다."
   ]
  },
  {
   "cell_type": "code",
   "execution_count": null,
   "id": "573dbc64",
   "metadata": {},
   "outputs": [],
   "source": [
    "for key, group in df_group:\n",
    "    print(key)\n",
    "    display(group.head(2))"
   ]
  },
  {
   "cell_type": "markdown",
   "id": "bdbe05c8",
   "metadata": {},
   "source": [
    "그러나 for문을 이용해 그룹객체의 이름과 데이터를 확인해보면 species인 Adelie, Chinstrap, Gentoo에 따라 데이터가 분할되어 있다.\n",
    "\n",
    "### 그룹 별 연산하기\n",
    "\n",
    "원하는 조건에 따라 그룹을 나누었다면, 그룹 별 연산을 해보자. 먼저 그룹 별 평균을 구해보도록 한다."
   ]
  },
  {
   "cell_type": "code",
   "execution_count": null,
   "id": "e5a22030",
   "metadata": {},
   "outputs": [],
   "source": [
    "df_group[[\n",
    "    'bill_length_mm', 'bill_depth_mm', 'flipper_length_mm', 'body_mass_g'\n",
    "]].mean()"
   ]
  },
  {
   "cell_type": "markdown",
   "id": "2844408e",
   "metadata": {},
   "source": [
    "그룹 객체에 `mean()` 메서드를 적용하면 각 그룹 별 평균이 계산된다. 이 외에도 `groupby()`와 함께 pandas에 내장되어 있는 다양한 집계 메서드를 사용할 수 있다.\n",
    "\n",
    "```{table} 판다스 내 집계 메서드\n",
    ":name: method\n",
    "| 메서드 | 기능 |\n",
    "| --- | --- |\n",
    "| `count` | 누락값을 제외한 데이터 수 |\n",
    "| `size` | 누락값을 포함한 데이터 수 |\n",
    "| `mean` | 평균 |\n",
    "| `std` | 표준편차 | \n",
    "| `var` | 분산 |\n",
    "| `min` | 최소값 |\n",
    "| `max` | 최대값 | \n",
    "| `quantile(q=0.25)` | 백분위수 25% |\n",
    "| `quantile(q=0.50)` | 백분위수 50% |\n",
    "| `quantile(q=0.75)` | 백분위수 75% |\n",
    "| `sum` | 전체 합 |\n",
    "| `describe` | 데이터 수, 평균, 표준편차, 최소값, 백분위수(25, 50, 75%), 최대값 반환 |\n",
    "| `first` | 첫번째 행 반환 |\n",
    "| `last` | 마지막 행 반환 |\n",
    "| `nth` | n번째 행 반환 |\n",
    "```\n",
    "\n",
    "그룹의 기준을 하나가 아닌 여러 열로 설정하는 것 역시 가능하다. 이번에는 'species'와 'sex'에 따른 평균을 구해보도록 하자."
   ]
  },
  {
   "cell_type": "code",
   "execution_count": null,
   "id": "1fb4a3cd",
   "metadata": {},
   "outputs": [],
   "source": [
    "df.groupby(['species', 'sex'])[[\n",
    "    'bill_length_mm', 'bill_depth_mm', 'flipper_length_mm', 'body_mass_g'\n",
    "]].mean()"
   ]
  },
  {
   "cell_type": "markdown",
   "id": "86d7865f",
   "metadata": {},
   "source": [
    "기준으로 삼고 싶은 열들을 `groupby()` 메서드 내에 리스트 형태로 입력한 후 평균을 구했다. 멀티 인덱스(MultiIndex) 형태로 결과가 반환되며, 같은 종 내에서도 수컷(Male)이 암컷(Female)보다 크기나 무게가 큰 것을 쉽게 비교할 수 있다.\n",
    "\n",
    "집계 연산을 처리하는 함수를 사용자가 직접 만든 후 그룹 객체에 적용하고자 할 때는 `agg()` 메서드를 사용한다. 예제로 최대값과 최소값의 차이를 계산하는 함수를 만든 후 각 그룹별로 적용해보도록 하자."
   ]
  },
  {
   "cell_type": "code",
   "execution_count": null,
   "id": "ab33d19c",
   "metadata": {},
   "outputs": [],
   "source": [
    "def min_max(x):\n",
    "    return x.max() - x.min()\n",
    "\n",
    "df.groupby(['species'])['bill_length_mm'].agg(min_max)"
   ]
  },
  {
   "cell_type": "markdown",
   "id": "292f9e73",
   "metadata": {},
   "source": [
    "먼저 최대값과 최소값의 차이를 구하는 `min_max()`  함수를 만들었다. 그 후 'species' 별로 그룹을 나눈 후, 'bill_length_mm' 열만 선택한다. `agg()` 메서드 내에 해당 함수를 입력하면 각 그룹 별로 함수가 적용되었다. `agg()` 메서드를 사용하면 한번에 여러개의 집계 연산을 처리할 수도 있다."
   ]
  },
  {
   "cell_type": "code",
   "execution_count": null,
   "id": "67a9adca",
   "metadata": {},
   "outputs": [],
   "source": [
    "df.groupby(['species'])[[\n",
    "    'bill_length_mm', 'bill_depth_mm', 'flipper_length_mm', 'body_mass_g'\n",
    "]].agg(['max', 'min'])"
   ]
  },
  {
   "cell_type": "markdown",
   "id": "00374bec",
   "metadata": {},
   "source": [
    "`agg()` 메서드 내에 원하는 집계 연산을 리스트 형태로 입력하면 일괄적으로 적용이 된다. 각 열마다 다른 종류의 함수를 적용할 수도 있다."
   ]
  },
  {
   "cell_type": "code",
   "execution_count": null,
   "id": "ff83cf28",
   "metadata": {},
   "outputs": [],
   "source": [
    "df.groupby(['species']).agg({'bill_length_mm': ['max', 'min'],\n",
    "                            'island': ['count']})"
   ]
  },
  {
   "cell_type": "markdown",
   "id": "6eae1ec5",
   "metadata": {},
   "source": [
    "`agg()` 메서드 내에 `{열 : 함수}` 형태의 딕셔너리로 입력하면 열마다 다른 종류의 함수를 적용할 수도 있다. 'bill_length_mm' 열은 max와 min값을 구했으며, 'island' 열은 count를 구했다.\n",
    "\n",
    "`agg()` 메서드를 이용할 경우 그룹 별로 연산을 위한 함수를 적용하고 연산 결과를 집계하여 반환하였다. 반면 `transform()` 메서드를 이용할 경우 그룹 별로 함수를 적용하는 것은 동일하지만, 그 결과를 본래의 행 인덱스와 열 인덱스를 기준으로 반환한다. 따라서 원본 데이터프레임과 같은 형태로 변형하여 정리를 한다."
   ]
  },
  {
   "cell_type": "code",
   "execution_count": null,
   "id": "d2c7ee59",
   "metadata": {},
   "outputs": [],
   "source": [
    "df.groupby(['species'])['bill_length_mm'].transform('mean')"
   ]
  },
  {
   "cell_type": "markdown",
   "id": "cba4dd3a",
   "metadata": {},
   "source": [
    "'species' 별로 그룹을 나눈 후 'bill_length_mm' 열을 선택하였다. 그 후 `transform()` 매서드를 통해 평균을 구하면, 각 species 별 평균이 집계되는 것이 아닌 원래의 행 인덱스와 열 인덱스에 결과가 반환된다. 이러한 점을 응용해 그룹 별 z-score를 계산해보도록 하자. z-score란 각 데이터의 값이 평균으로부터 얼마나 떨어져 있는지를 나타내는 수치로써, 각 원소를 평균으로 나눈 후 이를 표준편차로 나눈다.\n",
    "\n",
    "$$z = \\frac{x-\\mu}{\\sigma}$$ \n",
    "\n",
    "각 그룹 별 'bill_length_mm'의 z-score를 구해보도록 하자."
   ]
  },
  {
   "cell_type": "code",
   "execution_count": null,
   "id": "402df811",
   "metadata": {},
   "outputs": [],
   "source": [
    "def z_score(x):\n",
    "    z = (x - x.mean()) / x.std()\n",
    "    return(z)\n",
    "\n",
    "df.groupby(['species'])['bill_length_mm'].transform(z_score)"
   ]
  },
  {
   "cell_type": "markdown",
   "id": "96490d6c",
   "metadata": {},
   "source": [
    "먼저 수식에 맞춰 z-score를 계산하는 함수를 만든다. 그 후 'species' 열 별로 그룹을 나눈 후 'bill_length_mm' 열만 선택하여 `transform()` 메서드 내에 `z_score()` 함수를 적용한다. 이를 통해 각 그룹 별 평균과 표준편차를 이용해 모든 원소의 z-score가 계산되며, 결과는 원래의 행 인덱스 순서에 반환된다.\n",
    "\n",
    "`apply()` 메서드를 그룹 객체에 적용할 수도 있다."
   ]
  },
  {
   "cell_type": "code",
   "execution_count": null,
   "id": "c50dd269",
   "metadata": {},
   "outputs": [],
   "source": [
    "df.groupby(['species'])['bill_length_mm'].apply(min)"
   ]
  },
  {
   "cell_type": "markdown",
   "id": "4535983c",
   "metadata": {},
   "source": [
    "그룹을 나눈 후 `apply()` 메서드 내에 `min`을 입력하면 각 그룹 별로 'bill_length_mm' 열의 최소값이 나타난다. 이번엔 앞서 만든 `z_score()` 함수를 적용해보자. "
   ]
  },
  {
   "cell_type": "code",
   "execution_count": null,
   "id": "bd9fd35e",
   "metadata": {},
   "outputs": [],
   "source": [
    "df.groupby(['species'])['bill_length_mm'].apply(z_score)"
   ]
  },
  {
   "cell_type": "markdown",
   "id": "1d5dff95",
   "metadata": {},
   "source": [
    "`transform()` 메서드를 이용한 것과 결과가 동일하다.\n",
    "\n",
    "그룹 객체에 `filter()` 메서드를 적용하면 조건에 해당하는 그룹만을 반환한다. 위의 예에서 'bill_length_mm'의 평균이 40 이상이 그룹만 찾아보도록 하자."
   ]
  },
  {
   "cell_type": "code",
   "execution_count": null,
   "id": "29ebe6c0",
   "metadata": {},
   "outputs": [],
   "source": [
    "df.groupby(['species'])['bill_length_mm'].mean()"
   ]
  },
  {
   "cell_type": "markdown",
   "id": "d77e097c",
   "metadata": {},
   "source": [
    "먼저 species 별 'bill_length_mm'의 평균은 위와 같다. Chinstrap와 Gentoo 종의 평균이 40 이상이다.      "
   ]
  },
  {
   "cell_type": "code",
   "execution_count": null,
   "id": "05b19536",
   "metadata": {},
   "outputs": [],
   "source": [
    "df.groupby(['species']).filter(lambda x: x['bill_length_mm'].mean() >= 40)"
   ]
  },
  {
   "cell_type": "markdown",
   "id": "c74f9325",
   "metadata": {},
   "source": [
    "species 별로 그룹은 나눈 후 `filter()` 메서드 내에 조건식을 입력한다. lambda 함수를 통해 조건을 정의하며, 'bill_length_mm' 열의 평균이 40 이상인 조건을 입력한다. 결과를 살펴보면 Adelie 종은 평균이 40 미만이므로 제외되고, Chinstrap와 Gentoo 종의 데이터만 반환된다.\n",
    "\n",
    "## 시계열 데이터 다루기\n",
    "\n",
    "시계열 데이터(time series data)란 시간을 기준으로 측정된 자료를 말하며, 주가나 재무제표 등 투자에 쓰이는 대부분의 데이터가 시계열 데이터라고도 볼 수 있으므로 이를 다루는 법에 알 필요가 있다. 앞서 datetime 패키지에서 제공하는 datetime 객체를 통해 날짜와 시간을 다룰수 있었다. pandas에서는 문자열을 datetime 객체로 손쉽게 변환할 수 있으므로 이에 대해 알아보겠다. 먼저 택시 승하차 정보가 담긴 taxis 데이터셋을 불러오도록 하자."
   ]
  },
  {
   "cell_type": "code",
   "execution_count": 29,
   "id": "6844c396",
   "metadata": {},
   "outputs": [
    {
     "data": {
      "text/html": [
       "<div>\n",
       "<style scoped>\n",
       "    .dataframe tbody tr th:only-of-type {\n",
       "        vertical-align: middle;\n",
       "    }\n",
       "\n",
       "    .dataframe tbody tr th {\n",
       "        vertical-align: top;\n",
       "    }\n",
       "\n",
       "    .dataframe thead th {\n",
       "        text-align: right;\n",
       "    }\n",
       "</style>\n",
       "<table border=\"1\" class=\"dataframe\">\n",
       "  <thead>\n",
       "    <tr style=\"text-align: right;\">\n",
       "      <th></th>\n",
       "      <th>pickup</th>\n",
       "      <th>dropoff</th>\n",
       "      <th>passengers</th>\n",
       "      <th>distance</th>\n",
       "      <th>fare</th>\n",
       "      <th>tip</th>\n",
       "      <th>tolls</th>\n",
       "      <th>total</th>\n",
       "      <th>color</th>\n",
       "      <th>payment</th>\n",
       "      <th>pickup_zone</th>\n",
       "      <th>dropoff_zone</th>\n",
       "      <th>pickup_borough</th>\n",
       "      <th>dropoff_borough</th>\n",
       "    </tr>\n",
       "  </thead>\n",
       "  <tbody>\n",
       "    <tr>\n",
       "      <th>0</th>\n",
       "      <td>2019-03-23 20:21:09</td>\n",
       "      <td>2019-03-23 20:27:24</td>\n",
       "      <td>1</td>\n",
       "      <td>1.60</td>\n",
       "      <td>7.0</td>\n",
       "      <td>2.15</td>\n",
       "      <td>0.0</td>\n",
       "      <td>12.95</td>\n",
       "      <td>yellow</td>\n",
       "      <td>credit card</td>\n",
       "      <td>Lenox Hill West</td>\n",
       "      <td>UN/Turtle Bay South</td>\n",
       "      <td>Manhattan</td>\n",
       "      <td>Manhattan</td>\n",
       "    </tr>\n",
       "    <tr>\n",
       "      <th>1</th>\n",
       "      <td>2019-03-04 16:11:55</td>\n",
       "      <td>2019-03-04 16:19:00</td>\n",
       "      <td>1</td>\n",
       "      <td>0.79</td>\n",
       "      <td>5.0</td>\n",
       "      <td>0.00</td>\n",
       "      <td>0.0</td>\n",
       "      <td>9.30</td>\n",
       "      <td>yellow</td>\n",
       "      <td>cash</td>\n",
       "      <td>Upper West Side South</td>\n",
       "      <td>Upper West Side South</td>\n",
       "      <td>Manhattan</td>\n",
       "      <td>Manhattan</td>\n",
       "    </tr>\n",
       "    <tr>\n",
       "      <th>2</th>\n",
       "      <td>2019-03-27 17:53:01</td>\n",
       "      <td>2019-03-27 18:00:25</td>\n",
       "      <td>1</td>\n",
       "      <td>1.37</td>\n",
       "      <td>7.5</td>\n",
       "      <td>2.36</td>\n",
       "      <td>0.0</td>\n",
       "      <td>14.16</td>\n",
       "      <td>yellow</td>\n",
       "      <td>credit card</td>\n",
       "      <td>Alphabet City</td>\n",
       "      <td>West Village</td>\n",
       "      <td>Manhattan</td>\n",
       "      <td>Manhattan</td>\n",
       "    </tr>\n",
       "    <tr>\n",
       "      <th>3</th>\n",
       "      <td>2019-03-10 01:23:59</td>\n",
       "      <td>2019-03-10 01:49:51</td>\n",
       "      <td>1</td>\n",
       "      <td>7.70</td>\n",
       "      <td>27.0</td>\n",
       "      <td>6.15</td>\n",
       "      <td>0.0</td>\n",
       "      <td>36.95</td>\n",
       "      <td>yellow</td>\n",
       "      <td>credit card</td>\n",
       "      <td>Hudson Sq</td>\n",
       "      <td>Yorkville West</td>\n",
       "      <td>Manhattan</td>\n",
       "      <td>Manhattan</td>\n",
       "    </tr>\n",
       "    <tr>\n",
       "      <th>4</th>\n",
       "      <td>2019-03-30 13:27:42</td>\n",
       "      <td>2019-03-30 13:37:14</td>\n",
       "      <td>3</td>\n",
       "      <td>2.16</td>\n",
       "      <td>9.0</td>\n",
       "      <td>1.10</td>\n",
       "      <td>0.0</td>\n",
       "      <td>13.40</td>\n",
       "      <td>yellow</td>\n",
       "      <td>credit card</td>\n",
       "      <td>Midtown East</td>\n",
       "      <td>Yorkville West</td>\n",
       "      <td>Manhattan</td>\n",
       "      <td>Manhattan</td>\n",
       "    </tr>\n",
       "  </tbody>\n",
       "</table>\n",
       "</div>"
      ],
      "text/plain": [
       "               pickup             dropoff  passengers  distance  fare   tip  \\\n",
       "0 2019-03-23 20:21:09 2019-03-23 20:27:24           1      1.60   7.0  2.15   \n",
       "1 2019-03-04 16:11:55 2019-03-04 16:19:00           1      0.79   5.0  0.00   \n",
       "2 2019-03-27 17:53:01 2019-03-27 18:00:25           1      1.37   7.5  2.36   \n",
       "3 2019-03-10 01:23:59 2019-03-10 01:49:51           1      7.70  27.0  6.15   \n",
       "4 2019-03-30 13:27:42 2019-03-30 13:37:14           3      2.16   9.0  1.10   \n",
       "\n",
       "   tolls  total   color      payment            pickup_zone  \\\n",
       "0    0.0  12.95  yellow  credit card        Lenox Hill West   \n",
       "1    0.0   9.30  yellow         cash  Upper West Side South   \n",
       "2    0.0  14.16  yellow  credit card          Alphabet City   \n",
       "3    0.0  36.95  yellow  credit card              Hudson Sq   \n",
       "4    0.0  13.40  yellow  credit card           Midtown East   \n",
       "\n",
       "            dropoff_zone pickup_borough dropoff_borough  \n",
       "0    UN/Turtle Bay South      Manhattan       Manhattan  \n",
       "1  Upper West Side South      Manhattan       Manhattan  \n",
       "2           West Village      Manhattan       Manhattan  \n",
       "3         Yorkville West      Manhattan       Manhattan  \n",
       "4         Yorkville West      Manhattan       Manhattan  "
      ]
     },
     "execution_count": 29,
     "metadata": {},
     "output_type": "execute_result"
    }
   ],
   "source": [
    "import seaborn as sns\n",
    "\n",
    "df = sns.load_dataset('taxis')\n",
    "df.head()"
   ]
  },
  {
   "cell_type": "markdown",
   "id": "b282e4b1",
   "metadata": {},
   "source": [
    "'pickup'과 'dropoff' 열을 살펴보면 시계열 형태처럼 보인다. 한 번 데이터의 형태를 살펴보도록 하자."
   ]
  },
  {
   "cell_type": "code",
   "execution_count": 30,
   "id": "0d2c81ea",
   "metadata": {},
   "outputs": [
    {
     "name": "stdout",
     "output_type": "stream",
     "text": [
      "<class 'pandas.core.frame.DataFrame'>\n",
      "RangeIndex: 6433 entries, 0 to 6432\n",
      "Data columns (total 14 columns):\n",
      " #   Column           Non-Null Count  Dtype         \n",
      "---  ------           --------------  -----         \n",
      " 0   pickup           6433 non-null   datetime64[ns]\n",
      " 1   dropoff          6433 non-null   datetime64[ns]\n",
      " 2   passengers       6433 non-null   int64         \n",
      " 3   distance         6433 non-null   float64       \n",
      " 4   fare             6433 non-null   float64       \n",
      " 5   tip              6433 non-null   float64       \n",
      " 6   tolls            6433 non-null   float64       \n",
      " 7   total            6433 non-null   float64       \n",
      " 8   color            6433 non-null   object        \n",
      " 9   payment          6389 non-null   object        \n",
      " 10  pickup_zone      6407 non-null   object        \n",
      " 11  dropoff_zone     6388 non-null   object        \n",
      " 12  pickup_borough   6407 non-null   object        \n",
      " 13  dropoff_borough  6388 non-null   object        \n",
      "dtypes: datetime64[ns](2), float64(5), int64(1), object(6)\n",
      "memory usage: 703.7+ KB\n"
     ]
    }
   ],
   "source": [
    "df.info()"
   ]
  },
  {
   "cell_type": "markdown",
   "id": "5d408034",
   "metadata": {},
   "source": [
    "`info()` 메서드를 통해 확인해보면 해당 열의 타입이 object 즉 문자열이다. pandas에서는 `to_datetime()` 메서드를 통해 문자열을 datetime 객체로 변환할 수 있다."
   ]
  },
  {
   "cell_type": "code",
   "execution_count": 31,
   "id": "922a567e",
   "metadata": {},
   "outputs": [
    {
     "name": "stdout",
     "output_type": "stream",
     "text": [
      "<class 'pandas.core.frame.DataFrame'>\n",
      "RangeIndex: 6433 entries, 0 to 6432\n",
      "Data columns (total 14 columns):\n",
      " #   Column           Non-Null Count  Dtype         \n",
      "---  ------           --------------  -----         \n",
      " 0   pickup           6433 non-null   datetime64[ns]\n",
      " 1   dropoff          6433 non-null   datetime64[ns]\n",
      " 2   passengers       6433 non-null   int64         \n",
      " 3   distance         6433 non-null   float64       \n",
      " 4   fare             6433 non-null   float64       \n",
      " 5   tip              6433 non-null   float64       \n",
      " 6   tolls            6433 non-null   float64       \n",
      " 7   total            6433 non-null   float64       \n",
      " 8   color            6433 non-null   object        \n",
      " 9   payment          6389 non-null   object        \n",
      " 10  pickup_zone      6407 non-null   object        \n",
      " 11  dropoff_zone     6388 non-null   object        \n",
      " 12  pickup_borough   6407 non-null   object        \n",
      " 13  dropoff_borough  6388 non-null   object        \n",
      "dtypes: datetime64[ns](2), float64(5), int64(1), object(6)\n",
      "memory usage: 703.7+ KB\n"
     ]
    }
   ],
   "source": [
    "df['pickup'] = pd.to_datetime(df['pickup'])\n",
    "df['dropoff'] = pd.to_datetime(df['dropoff'])\n",
    "\n",
    "df.info()"
   ]
  },
  {
   "cell_type": "markdown",
   "id": "f38a387d",
   "metadata": {},
   "source": [
    "두 열의 타입이 'datetime64[ns]' 즉 datetime64 객체로 변하였다.\n",
    "\n",
    "이번에는 'pickup' 열에서 연도에 해당하는 정보만 추출해보도록 하자. 먼저 첫번째 행의 '2019-03-23 20:21:09'에서 연도를 추출하는 법은 다음과 같다."
   ]
  },
  {
   "cell_type": "code",
   "execution_count": null,
   "id": "c72f9efb",
   "metadata": {},
   "outputs": [],
   "source": [
    "df['pickup'][0].year"
   ]
  },
  {
   "cell_type": "markdown",
   "id": "fabb953a",
   "metadata": {},
   "source": [
    "원소의 끝에 `year`를 붙여주면 연도에 해당하는 값이 추출된다. 이 외에도 `month`, `day` 등을 통해 월과 일을 추출할 수도 있다. 그렇다면 'pickup' 열에 존재하는 모든 데이터의 연도를 추출하려면 어떻게 해야할까? `dt` 접근자를 사용하면 datetime 타입의 열에 한 번에 접근할 수 있다."
   ]
  },
  {
   "cell_type": "code",
   "execution_count": null,
   "id": "ca963305",
   "metadata": {},
   "outputs": [],
   "source": [
    "df['year'] = df['pickup'].dt.year\n",
    "df['month'] = df['pickup'].dt.month\n",
    "df['day'] = df['pickup'].dt.day\n",
    "\n",
    "df[['pickup', 'year', 'month', 'day']].head()"
   ]
  },
  {
   "cell_type": "markdown",
   "id": "bfd6a329",
   "metadata": {},
   "source": [
    "먼저 열을 의미하는 `df['pickup']` 뒤에 `dt` 접근자를 붙여준 후, 추출하고자 하는 정보(year, month, day)를 입력한다. 그 결과 년, 월, 일에 해당 하는 정보만이 추출되었다.\n",
    "\n",
    "현재는 데이터가 시간 순서대로 정렬되어 있지 않으므로, 'pickup' 열을 기준으로 정렬을 해주도록 한다."
   ]
  },
  {
   "cell_type": "code",
   "execution_count": null,
   "id": "2719f7be",
   "metadata": {},
   "outputs": [],
   "source": [
    "df.sort_values('pickup', inplace=True)\n",
    "df.reset_index(drop=True, inplace=True)\n",
    "\n",
    "df.head()"
   ]
  },
  {
   "cell_type": "markdown",
   "id": "b88e8462",
   "metadata": {},
   "source": [
    "1. `sort_values()` 메서드를 통해 'pickup' 열을 기준으로 데이터를 오름차순으로 정렬한다.\n",
    "2. `reset_index()` 메서드를 통해 행 인덱스를 초기화한다.\n",
    "\n",
    "이번에는 'pickup'열과 'dropoff' 열의 차이, 즉 운행시간을 계산해보도록 하자."
   ]
  },
  {
   "cell_type": "code",
   "execution_count": null,
   "id": "9dfb4591",
   "metadata": {},
   "outputs": [],
   "source": [
    "df['dropoff'] - df['pickup']"
   ]
  },
  {
   "cell_type": "markdown",
   "id": "d8313a4b",
   "metadata": {},
   "source": [
    "두 열 모두 datetime 객체이므로 시간에 대한 연산이 가능하다. 첫 번째 행의 경우 '2019-02-28 23:32:35' 에서 '2019-02-28 23:29:03'를 뺀 값인 '0 days 00:03:32' 즉 3분 32초가 계산된다. \n",
    "\n",
    "이번에는 'pickup' 열을 행 인덱스로 변경해보자."
   ]
  },
  {
   "cell_type": "code",
   "execution_count": null,
   "id": "24a68431",
   "metadata": {},
   "outputs": [],
   "source": [
    "df.set_index('pickup', inplace=True)\n",
    "\n",
    "df.head()"
   ]
  },
  {
   "cell_type": "markdown",
   "id": "f755fad5",
   "metadata": {},
   "source": [
    "`set_index()` 메서드를 통해 'pickup' 열을 행 인덱스로 설정하였다. 인덱스의 타입을 확인해보도록 하자."
   ]
  },
  {
   "cell_type": "code",
   "execution_count": null,
   "id": "52d28694",
   "metadata": {},
   "outputs": [],
   "source": [
    "df.index"
   ]
  },
  {
   "cell_type": "markdown",
   "id": "a800b827",
   "metadata": {},
   "source": [
    "인덱스가 'DatetimeIndex' 형태라는 것을 알 수 있다. datetime 객체를 데이터프레임의 행 인덱스로 설정하면 원하는 날짜 혹은 시간의 데이터를 바로 추출할 수 있어 매우 편리하다. 해당 데이터는 2019년 2월 28일부터 2019년 3월 31일까지의 정보가 있으며, 이 중에서 2019년 2월에 해당하는 정보만 선택해보도록 하자."
   ]
  },
  {
   "cell_type": "code",
   "execution_count": null,
   "id": "9c8d04a1",
   "metadata": {},
   "outputs": [],
   "source": [
    "df.loc['2019-02']"
   ]
  },
  {
   "cell_type": "markdown",
   "id": "a54243fe",
   "metadata": {},
   "source": [
    "loc 인덱서 내부에 2019년 2월을 의미하는 '2019-02'를 입력하니, 해당 시점의 데이터만 출력되었다. 이번에는 2019년 3월 1일부터 2019년 3월 2일까지의 데이터를 선택해보자."
   ]
  },
  {
   "cell_type": "code",
   "execution_count": null,
   "id": "fd89d1fc",
   "metadata": {},
   "outputs": [],
   "source": [
    "df.loc['2019-03-01':'2019-03-02']"
   ]
  },
  {
   "cell_type": "markdown",
   "id": "72d33137",
   "metadata": {},
   "source": [
    "인덱서에 슬라이스 형태를 입력하면 이에 해당하는 기간의 데이터만 선택된다.\n",
    "\n",
    "### 시계열 데이터 만들기\n",
    "\n",
    "앞서 `range()` 함수를 통해 숫자(정수) 리스트를 만들었듯이, pandas의 `date_range()` 함수를 통해 여러 개의 날짜가 들어있는 배열 형태의 시계열 데이터를 만들 수 있다. 예제로 2021년 1월부터 2021년 12월까지 한 달 간격으로 시계열 데이터를 만들어보자."
   ]
  },
  {
   "cell_type": "code",
   "execution_count": null,
   "id": "fb6b764c",
   "metadata": {},
   "outputs": [],
   "source": [
    "pd.date_range(start='2021-01-01',\n",
    "              end='2021-12-31',\n",
    "              freq='M')"
   ]
  },
  {
   "cell_type": "markdown",
   "id": "66602904",
   "metadata": {},
   "source": [
    "start는 시작일, end는 종료일, freq는 간격을 뜻한다. `date_range` 함수의 `freq`에는 매우 다양한 종류가 있다.\n",
    "\n",
    "```{table} freq 옵션 종류\n",
    ":name: freq\n",
    "| 옵션 | 설명 |\n",
    "| --- | --- | \n",
    "| B | 비즈니스 데이(휴일 제외) |\n",
    "| D | 일 |\n",
    "| W | 주 |\n",
    "| M | 월말 |\n",
    "| BM | 월 마지막 비즈니스 데이 |\n",
    "| MS | 월초 |\n",
    "| Q | 분기말 |\n",
    "| BQ | 분기 시작 비즈네스 데이 |\n",
    "| QS | 분기초 |\n",
    "| BQS | 분기 시작 비즈니스 데이 |\n",
    "| A | 연말 |\n",
    "| BA | 연 마지막 비즈니스 데이 |\n",
    "| AS | 연초 |\n",
    "| BAS | 연 시작 비즈네스 데이 |\n",
    "| H | 시간 |\n",
    "| T | 분 |\n",
    "| S | 초 |\n",
    "```\n",
    "\n",
    "이 외에도 훨씬 많은 옵션이 있으며, 복잡한 형태의 시계열 데이터를 만들 수도 있다."
   ]
  },
  {
   "cell_type": "code",
   "execution_count": null,
   "id": "9aca7341",
   "metadata": {},
   "outputs": [],
   "source": [
    "pd.date_range(start='2021-01-01',\n",
    "              end='2021-01-31',\n",
    "              freq='3D')"
   ]
  },
  {
   "cell_type": "markdown",
   "id": "89f14107",
   "metadata": {},
   "source": [
    "3D는 3일을 뜻한다. 즉 2021년 1울 1일부터 3일 주기의 시계열 데이터가 만들어진다."
   ]
  },
  {
   "cell_type": "code",
   "execution_count": null,
   "id": "7a990593",
   "metadata": {},
   "outputs": [],
   "source": [
    "pd.date_range(start='2021-01-01',\n",
    "              end='2021-01-31',\n",
    "              freq='W-MON')"
   ]
  },
  {
   "cell_type": "markdown",
   "id": "a590844c",
   "metadata": {},
   "source": [
    "W는 주를 뜻하고 MON은 월요일을 뜻한다. 즉 매주 월요일에 해당하는 날짜가 시계열 데이터로 만들어진다."
   ]
  },
  {
   "cell_type": "code",
   "execution_count": null,
   "id": "3ffd7273",
   "metadata": {},
   "outputs": [],
   "source": [
    "pd.date_range(start='2021-01-01',\n",
    "              end='2021-12-31',\n",
    "              freq='WOM-2THU')"
   ]
  },
  {
   "cell_type": "markdown",
   "id": "524b0149",
   "metadata": {},
   "source": [
    "WOM는 week of month를, 2THU는 둘째주 목요일을 뜻한다. 즉 WOM-2FRI는 매월 둘째주 목요일에 해당하는 날짜가 시계열 데이터로 만들어진다."
   ]
  }
 ],
 "metadata": {
  "kernelspec": {
   "display_name": "quant",
   "language": "python",
   "name": "python3"
  },
  "language_info": {
   "codemirror_mode": {
    "name": "ipython",
    "version": 3
   },
   "file_extension": ".py",
   "mimetype": "text/x-python",
   "name": "python",
   "nbconvert_exporter": "python",
   "pygments_lexer": "ipython3",
   "version": "3.12.0"
  },
  "varInspector": {
   "cols": {
    "lenName": 16,
    "lenType": 16,
    "lenVar": 40
   },
   "kernels_config": {
    "python": {
     "delete_cmd_postfix": "",
     "delete_cmd_prefix": "del ",
     "library": "var_list.py",
     "varRefreshCmd": "print(var_dic_list())"
    },
    "r": {
     "delete_cmd_postfix": ") ",
     "delete_cmd_prefix": "rm(",
     "library": "var_list.r",
     "varRefreshCmd": "cat(var_dic_list()) "
    }
   },
   "types_to_exclude": [
    "module",
    "function",
    "builtin_function_or_method",
    "instance",
    "_Feature"
   ],
   "window_display": false
  }
 },
 "nbformat": 4,
 "nbformat_minor": 5
}
